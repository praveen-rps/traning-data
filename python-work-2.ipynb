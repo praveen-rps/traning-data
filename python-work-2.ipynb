{
 "cells": [
  {
   "cell_type": "code",
   "execution_count": 1,
   "id": "ea31d2c0",
   "metadata": {},
   "outputs": [
    {
     "name": "stdout",
     "output_type": "stream",
     "text": [
      "Hello\n"
     ]
    }
   ],
   "source": [
    "print(\"Hello\")"
   ]
  },
  {
   "cell_type": "code",
   "execution_count": 3,
   "id": "c8dbb087",
   "metadata": {},
   "outputs": [
    {
     "name": "stdout",
     "output_type": "stream",
     "text": [
      "1\n",
      "2\n",
      "3\n",
      "4\n",
      "5\n",
      "6\n",
      "7\n",
      "8\n",
      "9\n"
     ]
    }
   ],
   "source": [
    "for x in range(1,10):\n",
    "    print(x)"
   ]
  },
  {
   "cell_type": "code",
   "execution_count": 4,
   "id": "af364598",
   "metadata": {},
   "outputs": [
    {
     "name": "stdout",
     "output_type": "stream",
     "text": [
      "P\n",
      "y\n",
      "t\n",
      "h\n",
      "o\n",
      "n\n"
     ]
    }
   ],
   "source": [
    "for char in \"Python\":\n",
    "\tprint(char)"
   ]
  },
  {
   "cell_type": "code",
   "execution_count": null,
   "id": "054f68ca",
   "metadata": {},
   "outputs": [
    {
     "name": "stdout",
     "output_type": "stream",
     "text": [
      "1\n",
      "3\n",
      "5\n",
      "7\n",
      "9\n"
     ]
    }
   ],
   "source": [
    "for x in range(1,10,2):\n",
    "    print(x)"
   ]
  },
  {
   "cell_type": "code",
   "execution_count": 6,
   "id": "cfb78180",
   "metadata": {},
   "outputs": [
    {
     "name": "stdout",
     "output_type": "stream",
     "text": [
      "10\n",
      "9\n",
      "8\n",
      "7\n",
      "6\n",
      "5\n",
      "4\n",
      "3\n",
      "2\n",
      "1\n"
     ]
    }
   ],
   "source": [
    "for x in range(10,0,-1):\n",
    "    print(x)"
   ]
  },
  {
   "cell_type": "code",
   "execution_count": 7,
   "id": "a6416cdb",
   "metadata": {},
   "outputs": [
    {
     "name": "stdout",
     "output_type": "stream",
     "text": [
      "name = Alice\n",
      "age = 20\n"
     ]
    }
   ],
   "source": [
    "student = { \"name\":\"Alice\", \"age\":20}\n",
    "\n",
    "for key in student:\n",
    "    print(key, \"=\" , student[key])"
   ]
  },
  {
   "cell_type": "code",
   "execution_count": 9,
   "id": "110d5648",
   "metadata": {},
   "outputs": [
    {
     "name": "stdout",
     "output_type": "stream",
     "text": [
      "0\n",
      "1\n",
      "2\n",
      "Loop Completed\n"
     ]
    }
   ],
   "source": [
    "# for loop with else\n",
    "for i in range(3):\n",
    "    print(i)\n",
    "else:\n",
    "    print(\"Loop Completed\")"
   ]
  },
  {
   "cell_type": "code",
   "execution_count": 10,
   "id": "636176c0",
   "metadata": {},
   "outputs": [
    {
     "name": "stdout",
     "output_type": "stream",
     "text": [
      "0\n",
      "1\n",
      "2\n",
      "3\n",
      "4\n"
     ]
    }
   ],
   "source": [
    "for i in range(10):\n",
    "    if i == 5:\n",
    "        break\n",
    "    print(i)"
   ]
  },
  {
   "cell_type": "code",
   "execution_count": 11,
   "id": "6dbb27a2",
   "metadata": {},
   "outputs": [
    {
     "name": "stdout",
     "output_type": "stream",
     "text": [
      "0\n",
      "1\n",
      "2\n",
      "3\n",
      "4\n",
      "6\n",
      "7\n",
      "8\n",
      "9\n"
     ]
    }
   ],
   "source": [
    "for i in range(10):\n",
    "    if i == 5:\n",
    "        continue\n",
    "    print(i)"
   ]
  },
  {
   "cell_type": "code",
   "execution_count": 12,
   "id": "0414e8fa",
   "metadata": {},
   "outputs": [
    {
     "name": "stdout",
     "output_type": "stream",
     "text": [
      "0\n",
      "1\n",
      "2\n",
      "3\n",
      "4\n",
      "5\n",
      "6\n",
      "7\n",
      "8\n",
      "9\n"
     ]
    }
   ],
   "source": [
    "for i in range(10):\n",
    "    if i == 5:\n",
    "        pass\n",
    "    print(i)"
   ]
  },
  {
   "cell_type": "code",
   "execution_count": 15,
   "id": "36ecaa18",
   "metadata": {},
   "outputs": [
    {
     "name": "stdout",
     "output_type": "stream",
     "text": [
      "\n",
      "\n",
      " * \n",
      "\n",
      "\n",
      " * \n",
      " * \n",
      "\n",
      "\n"
     ]
    }
   ],
   "source": [
    "for i in range(1,4):\n",
    "    for j in range(1,i):\n",
    "        print(\" * \")\n",
    "    print(\"\\n\")"
   ]
  },
  {
   "cell_type": "code",
   "execution_count": 17,
   "id": "0abeee51",
   "metadata": {},
   "outputs": [
    {
     "name": "stdout",
     "output_type": "stream",
     "text": [
      " * \n",
      " *  * \n",
      " *  *  * \n"
     ]
    }
   ],
   "source": [
    "rows = 3\n",
    "for i in range(1,rows+1):\n",
    "    print(\" * \" * i)"
   ]
  },
  {
   "cell_type": "code",
   "execution_count": 19,
   "id": "2db37b90",
   "metadata": {},
   "outputs": [
    {
     "name": "stdout",
     "output_type": "stream",
     "text": [
      " Hello  Hello  Hello  Hello  Hello \n"
     ]
    }
   ],
   "source": [
    "print(\" Hello \" * 5)"
   ]
  },
  {
   "cell_type": "code",
   "execution_count": 22,
   "id": "2b3f5d71",
   "metadata": {},
   "outputs": [
    {
     "name": "stdout",
     "output_type": "stream",
     "text": [
      "     * \n",
      "    *  * \n",
      "   *  *  * \n",
      "  *  *  *  * \n",
      " *  *  *  *  * \n"
     ]
    }
   ],
   "source": [
    "rows = 5\n",
    "for i in range(1, rows+1):\n",
    "    print(\" \" * (rows-i)+ \" * \" * i)"
   ]
  },
  {
   "cell_type": "code",
   "execution_count": 32,
   "id": "622717f7",
   "metadata": {},
   "outputs": [
    {
     "name": "stdout",
     "output_type": "stream",
     "text": [
      "The factorial is  3628800\n"
     ]
    }
   ],
   "source": [
    "fact = 1\n",
    "n = int(input(\"Enter a number \"))\n",
    "if n == 1 or n == 0:\n",
    "    print(\"The factorial is 1\")\n",
    "elif n < 0:\n",
    "    print(\"Factorial is not defined\")\n",
    "else:\n",
    "    for i in range(1,n+1):\n",
    "        fact = fact * i\n",
    "    print(\"The factorial is \", fact)"
   ]
  },
  {
   "cell_type": "code",
   "execution_count": 33,
   "id": "360ae5a9",
   "metadata": {},
   "outputs": [],
   "source": [
    "countries= [\"India\",\"Japan\",\"China\",\"America\",\"Australia\",\"Swedan\",\"Norway\",\"Germany\"]"
   ]
  },
  {
   "cell_type": "code",
   "execution_count": 35,
   "id": "0c651b5f",
   "metadata": {},
   "outputs": [
    {
     "data": {
      "text/plain": [
       "['India', 'Japan']"
      ]
     },
     "execution_count": 35,
     "metadata": {},
     "output_type": "execute_result"
    }
   ],
   "source": [
    "countries[0:2]"
   ]
  },
  {
   "cell_type": "code",
   "execution_count": 36,
   "id": "14ab9db9",
   "metadata": {},
   "outputs": [
    {
     "data": {
      "text/plain": [
       "['India', 'Japan', 'China']"
      ]
     },
     "execution_count": 36,
     "metadata": {},
     "output_type": "execute_result"
    }
   ],
   "source": [
    "countries[:3]"
   ]
  },
  {
   "cell_type": "code",
   "execution_count": 37,
   "id": "f74d261b",
   "metadata": {},
   "outputs": [
    {
     "data": {
      "text/plain": [
       "['America', 'Australia', 'Swedan', 'Norway', 'Germany']"
      ]
     },
     "execution_count": 37,
     "metadata": {},
     "output_type": "execute_result"
    }
   ],
   "source": [
    "countries[3:]"
   ]
  },
  {
   "cell_type": "code",
   "execution_count": 38,
   "id": "924b3fa0",
   "metadata": {},
   "outputs": [
    {
     "data": {
      "text/plain": [
       "['Australia', 'Swedan', 'Norway']"
      ]
     },
     "execution_count": 38,
     "metadata": {},
     "output_type": "execute_result"
    }
   ],
   "source": [
    "countries[-4:-1]"
   ]
  },
  {
   "cell_type": "code",
   "execution_count": 39,
   "id": "348dae35",
   "metadata": {},
   "outputs": [],
   "source": [
    "countries.append(\"Nepal\")"
   ]
  },
  {
   "cell_type": "code",
   "execution_count": 40,
   "id": "bc144dca",
   "metadata": {},
   "outputs": [
    {
     "data": {
      "text/plain": [
       "['India',\n",
       " 'Japan',\n",
       " 'China',\n",
       " 'America',\n",
       " 'Australia',\n",
       " 'Swedan',\n",
       " 'Norway',\n",
       " 'Germany',\n",
       " 'Nepal']"
      ]
     },
     "execution_count": 40,
     "metadata": {},
     "output_type": "execute_result"
    }
   ],
   "source": [
    "countries"
   ]
  },
  {
   "cell_type": "code",
   "execution_count": 41,
   "id": "3ab309b2",
   "metadata": {},
   "outputs": [
    {
     "data": {
      "text/plain": [
       "['India',\n",
       " 'Japan',\n",
       " 'Canada',\n",
       " 'China',\n",
       " 'America',\n",
       " 'Australia',\n",
       " 'Swedan',\n",
       " 'Norway',\n",
       " 'Germany',\n",
       " 'Nepal']"
      ]
     },
     "execution_count": 41,
     "metadata": {},
     "output_type": "execute_result"
    }
   ],
   "source": [
    "countries.insert(2,\"Canada\")\n",
    "countries"
   ]
  },
  {
   "cell_type": "code",
   "execution_count": 42,
   "id": "c2d93ba3",
   "metadata": {},
   "outputs": [],
   "source": [
    "fruits1 = [\"banana\", \"apple\"]\n",
    "fruits2 = [\"cherry\", \"guava\"]\n",
    "fruits1.extend(fruits2)"
   ]
  },
  {
   "cell_type": "code",
   "execution_count": 43,
   "id": "54d00339",
   "metadata": {},
   "outputs": [
    {
     "data": {
      "text/plain": [
       "['banana', 'apple', 'cherry', 'guava']"
      ]
     },
     "execution_count": 43,
     "metadata": {},
     "output_type": "execute_result"
    }
   ],
   "source": [
    "fruits1"
   ]
  },
  {
   "cell_type": "code",
   "execution_count": 44,
   "id": "e2bf9bce",
   "metadata": {},
   "outputs": [
    {
     "data": {
      "text/plain": [
       "['banana', 'apple', 'cherry']"
      ]
     },
     "execution_count": 44,
     "metadata": {},
     "output_type": "execute_result"
    }
   ],
   "source": [
    "fruits1.remove(\"guava\")\n",
    "fruits1"
   ]
  },
  {
   "cell_type": "code",
   "execution_count": 45,
   "id": "e382bd30",
   "metadata": {},
   "outputs": [
    {
     "data": {
      "text/plain": [
       "'Nepal'"
      ]
     },
     "execution_count": 45,
     "metadata": {},
     "output_type": "execute_result"
    }
   ],
   "source": [
    "countries.pop()"
   ]
  },
  {
   "cell_type": "code",
   "execution_count": 46,
   "id": "66801f43",
   "metadata": {},
   "outputs": [
    {
     "data": {
      "text/plain": [
       "['India',\n",
       " 'Japan',\n",
       " 'Canada',\n",
       " 'China',\n",
       " 'America',\n",
       " 'Australia',\n",
       " 'Swedan',\n",
       " 'Norway',\n",
       " 'Germany']"
      ]
     },
     "execution_count": 46,
     "metadata": {},
     "output_type": "execute_result"
    }
   ],
   "source": [
    "countries"
   ]
  },
  {
   "cell_type": "code",
   "execution_count": 47,
   "id": "91a66851",
   "metadata": {},
   "outputs": [
    {
     "data": {
      "text/plain": [
       "'Japan'"
      ]
     },
     "execution_count": 47,
     "metadata": {},
     "output_type": "execute_result"
    }
   ],
   "source": [
    "countries.pop(1)"
   ]
  },
  {
   "cell_type": "code",
   "execution_count": 48,
   "id": "511f278a",
   "metadata": {},
   "outputs": [],
   "source": [
    "fruits1.clear()"
   ]
  },
  {
   "cell_type": "code",
   "execution_count": 49,
   "id": "212472cc",
   "metadata": {},
   "outputs": [
    {
     "data": {
      "text/plain": [
       "[]"
      ]
     },
     "execution_count": 49,
     "metadata": {},
     "output_type": "execute_result"
    }
   ],
   "source": [
    "fruits1"
   ]
  },
  {
   "cell_type": "code",
   "execution_count": 50,
   "id": "30d31e29",
   "metadata": {},
   "outputs": [
    {
     "data": {
      "text/plain": [
       "2"
      ]
     },
     "execution_count": 50,
     "metadata": {},
     "output_type": "execute_result"
    }
   ],
   "source": [
    "countries.index(\"China\")"
   ]
  },
  {
   "cell_type": "code",
   "execution_count": 52,
   "id": "4636148c",
   "metadata": {},
   "outputs": [
    {
     "data": {
      "text/plain": [
       "1"
      ]
     },
     "execution_count": 52,
     "metadata": {},
     "output_type": "execute_result"
    }
   ],
   "source": [
    "countries.count(\"India\")"
   ]
  },
  {
   "cell_type": "code",
   "execution_count": 53,
   "id": "f96c34f8",
   "metadata": {},
   "outputs": [],
   "source": [
    "countries.append(\"India\")"
   ]
  },
  {
   "cell_type": "code",
   "execution_count": 54,
   "id": "4ac7b0d5",
   "metadata": {},
   "outputs": [
    {
     "data": {
      "text/plain": [
       "2"
      ]
     },
     "execution_count": 54,
     "metadata": {},
     "output_type": "execute_result"
    }
   ],
   "source": [
    "countries.count(\"India\")"
   ]
  },
  {
   "cell_type": "code",
   "execution_count": 56,
   "id": "cf12e1db",
   "metadata": {},
   "outputs": [],
   "source": [
    "x = countries.sort()"
   ]
  },
  {
   "cell_type": "code",
   "execution_count": 59,
   "id": "71c41d5b",
   "metadata": {},
   "outputs": [
    {
     "data": {
      "text/plain": [
       "['America',\n",
       " 'Australia',\n",
       " 'Canada',\n",
       " 'China',\n",
       " 'Germany',\n",
       " 'India',\n",
       " 'India',\n",
       " 'Norway',\n",
       " 'Swedan']"
      ]
     },
     "execution_count": 59,
     "metadata": {},
     "output_type": "execute_result"
    }
   ],
   "source": [
    "countries"
   ]
  },
  {
   "cell_type": "code",
   "execution_count": 58,
   "id": "4b31865d",
   "metadata": {},
   "outputs": [
    {
     "name": "stdout",
     "output_type": "stream",
     "text": [
      "None\n"
     ]
    }
   ],
   "source": [
    "print(x)"
   ]
  },
  {
   "cell_type": "code",
   "execution_count": 60,
   "id": "79c39413",
   "metadata": {},
   "outputs": [],
   "source": [
    "countries.sort(reverse=True)"
   ]
  },
  {
   "cell_type": "code",
   "execution_count": 61,
   "id": "e1062ac5",
   "metadata": {},
   "outputs": [
    {
     "data": {
      "text/plain": [
       "['Swedan',\n",
       " 'Norway',\n",
       " 'India',\n",
       " 'India',\n",
       " 'Germany',\n",
       " 'China',\n",
       " 'Canada',\n",
       " 'Australia',\n",
       " 'America']"
      ]
     },
     "execution_count": 61,
     "metadata": {},
     "output_type": "execute_result"
    }
   ],
   "source": [
    "countries"
   ]
  },
  {
   "cell_type": "code",
   "execution_count": 62,
   "id": "5cc8af30",
   "metadata": {},
   "outputs": [],
   "source": [
    "countries.reverse()"
   ]
  },
  {
   "cell_type": "code",
   "execution_count": 63,
   "id": "995eac2a",
   "metadata": {},
   "outputs": [
    {
     "data": {
      "text/plain": [
       "['America',\n",
       " 'Australia',\n",
       " 'Canada',\n",
       " 'China',\n",
       " 'Germany',\n",
       " 'India',\n",
       " 'India',\n",
       " 'Norway',\n",
       " 'Swedan']"
      ]
     },
     "execution_count": 63,
     "metadata": {},
     "output_type": "execute_result"
    }
   ],
   "source": [
    "countries"
   ]
  },
  {
   "cell_type": "code",
   "execution_count": 64,
   "id": "ae21d245",
   "metadata": {},
   "outputs": [],
   "source": [
    "temp = countries.copy()"
   ]
  },
  {
   "cell_type": "code",
   "execution_count": 65,
   "id": "ecd10264",
   "metadata": {},
   "outputs": [
    {
     "data": {
      "text/plain": [
       "['America',\n",
       " 'Australia',\n",
       " 'Canada',\n",
       " 'China',\n",
       " 'Germany',\n",
       " 'India',\n",
       " 'India',\n",
       " 'Norway',\n",
       " 'Swedan']"
      ]
     },
     "execution_count": 65,
     "metadata": {},
     "output_type": "execute_result"
    }
   ],
   "source": [
    "temp"
   ]
  },
  {
   "cell_type": "code",
   "execution_count": 1,
   "id": "447ea24a",
   "metadata": {},
   "outputs": [
    {
     "name": "stdout",
     "output_type": "stream",
     "text": [
      "The Average is :  81.4\n"
     ]
    }
   ],
   "source": [
    "marks = [78,85,90,66,88]\n",
    "average = sum(marks)/ len(marks)\n",
    "print(\"The Average is : \", average)"
   ]
  },
  {
   "cell_type": "code",
   "execution_count": 2,
   "id": "c651e55f",
   "metadata": {},
   "outputs": [
    {
     "name": "stdout",
     "output_type": "stream",
     "text": [
      "Alice  :  Present\n",
      "Bob  :  Absent\n",
      "Charlie  :  Absent\n",
      "David  :  Present\n"
     ]
    }
   ],
   "source": [
    "students = [\"Alice\", \"Bob\", \"Charlie\", \"David\"]\n",
    "present = [\"Alice\", \"David\"]\n",
    "for student in students:\n",
    "    status = \"Present\" if student in present else \"Absent\"\n",
    "    print(student , \" : \", status)\n"
   ]
  },
  {
   "cell_type": "code",
   "execution_count": 4,
   "id": "01bb427e",
   "metadata": {},
   "outputs": [
    {
     "name": "stdout",
     "output_type": "stream",
     "text": [
      "['Books', 'Boats']\n"
     ]
    }
   ],
   "source": [
    "products = [\"Laptop\", \"Mobiles\", \"Chairs\", \"Books\", \"TVs\", \"Tables\", \"Boats\"]\n",
    "search = input(\"Enter search string\")\n",
    "results = [p for p in products if search.lower() in p.lower() ]\n",
    "print(results)"
   ]
  },
  {
   "cell_type": "code",
   "execution_count": 7,
   "id": "1a845191",
   "metadata": {},
   "outputs": [
    {
     "name": "stdout",
     "output_type": "stream",
     "text": [
      "['apple', 'cherry', 'banana']\n"
     ]
    }
   ],
   "source": [
    "data = [\"  apple \", \" \", \"cherry\", \"    \",\"banana\"]\n",
    "cleaned_data = [item.strip() for item in data if item.strip()]\n",
    "print(cleaned_data)"
   ]
  },
  {
   "cell_type": "code",
   "execution_count": 8,
   "id": "9c3bd7fe",
   "metadata": {},
   "outputs": [],
   "source": [
    "student = \"Raj\",22,\"ECE\""
   ]
  },
  {
   "cell_type": "code",
   "execution_count": 9,
   "id": "ab0a9dbd",
   "metadata": {},
   "outputs": [
    {
     "data": {
      "text/plain": [
       "tuple"
      ]
     },
     "execution_count": 9,
     "metadata": {},
     "output_type": "execute_result"
    }
   ],
   "source": [
    "type(student)"
   ]
  },
  {
   "cell_type": "code",
   "execution_count": 10,
   "id": "41e1ee5b",
   "metadata": {},
   "outputs": [
    {
     "data": {
      "text/plain": [
       "('Raj', 22, 'ECE')"
      ]
     },
     "execution_count": 10,
     "metadata": {},
     "output_type": "execute_result"
    }
   ],
   "source": [
    "student"
   ]
  },
  {
   "cell_type": "code",
   "execution_count": 11,
   "id": "ff80c381",
   "metadata": {},
   "outputs": [
    {
     "data": {
      "text/plain": [
       "'Raj'"
      ]
     },
     "execution_count": 11,
     "metadata": {},
     "output_type": "execute_result"
    }
   ],
   "source": [
    "student[0]"
   ]
  },
  {
   "cell_type": "code",
   "execution_count": 13,
   "id": "18a7f159",
   "metadata": {},
   "outputs": [
    {
     "ename": "IndexError",
     "evalue": "tuple index out of range",
     "output_type": "error",
     "traceback": [
      "\u001b[1;31m---------------------------------------------------------------------------\u001b[0m",
      "\u001b[1;31mIndexError\u001b[0m                                Traceback (most recent call last)",
      "Cell \u001b[1;32mIn[13], line 1\u001b[0m\n\u001b[1;32m----> 1\u001b[0m student[\u001b[38;5;241m4\u001b[39m]\n",
      "\u001b[1;31mIndexError\u001b[0m: tuple index out of range"
     ]
    }
   ],
   "source": [
    "student[4]"
   ]
  },
  {
   "cell_type": "code",
   "execution_count": 14,
   "id": "9568099b",
   "metadata": {},
   "outputs": [
    {
     "ename": "TypeError",
     "evalue": "'tuple' object does not support item assignment",
     "output_type": "error",
     "traceback": [
      "\u001b[1;31m---------------------------------------------------------------------------\u001b[0m",
      "\u001b[1;31mTypeError\u001b[0m                                 Traceback (most recent call last)",
      "Cell \u001b[1;32mIn[14], line 1\u001b[0m\n\u001b[1;32m----> 1\u001b[0m student[\u001b[38;5;241m1\u001b[39m]\u001b[38;5;241m=\u001b[39m\u001b[38;5;241m34\u001b[39m\n",
      "\u001b[1;31mTypeError\u001b[0m: 'tuple' object does not support item assignment"
     ]
    }
   ],
   "source": [
    "student[1]=34"
   ]
  },
  {
   "cell_type": "code",
   "execution_count": 15,
   "id": "f2cf49fa",
   "metadata": {},
   "outputs": [],
   "source": [
    "sname, sage, sbranch = student"
   ]
  },
  {
   "cell_type": "code",
   "execution_count": 16,
   "id": "5d12fbd5",
   "metadata": {},
   "outputs": [
    {
     "name": "stdout",
     "output_type": "stream",
     "text": [
      "Raj   22   ECE\n"
     ]
    }
   ],
   "source": [
    "print(sname,\" \",sage,\" \",sbranch)"
   ]
  },
  {
   "cell_type": "code",
   "execution_count": 17,
   "id": "3ea74f97",
   "metadata": {},
   "outputs": [],
   "source": [
    "str = \"   Hello Python   \""
   ]
  },
  {
   "cell_type": "code",
   "execution_count": 18,
   "id": "4321d9d7",
   "metadata": {},
   "outputs": [
    {
     "data": {
      "text/plain": [
       "'   hello python   '"
      ]
     },
     "execution_count": 18,
     "metadata": {},
     "output_type": "execute_result"
    }
   ],
   "source": [
    "str.lower()"
   ]
  },
  {
   "cell_type": "code",
   "execution_count": 19,
   "id": "72aa5608",
   "metadata": {},
   "outputs": [
    {
     "data": {
      "text/plain": [
       "'   HELLO PYTHON   '"
      ]
     },
     "execution_count": 19,
     "metadata": {},
     "output_type": "execute_result"
    }
   ],
   "source": [
    "str.upper()"
   ]
  },
  {
   "cell_type": "code",
   "execution_count": 20,
   "id": "0f314b47",
   "metadata": {},
   "outputs": [
    {
     "data": {
      "text/plain": [
       "'Hello Python'"
      ]
     },
     "execution_count": 20,
     "metadata": {},
     "output_type": "execute_result"
    }
   ],
   "source": [
    "str.strip()"
   ]
  },
  {
   "cell_type": "code",
   "execution_count": 21,
   "id": "730b23ea",
   "metadata": {},
   "outputs": [
    {
     "data": {
      "text/plain": [
       "18"
      ]
     },
     "execution_count": 21,
     "metadata": {},
     "output_type": "execute_result"
    }
   ],
   "source": [
    "len(str)"
   ]
  },
  {
   "cell_type": "code",
   "execution_count": 22,
   "id": "e9c64423",
   "metadata": {},
   "outputs": [
    {
     "data": {
      "text/plain": [
       "12"
      ]
     },
     "execution_count": 22,
     "metadata": {},
     "output_type": "execute_result"
    }
   ],
   "source": [
    "len(str.strip())"
   ]
  },
  {
   "cell_type": "code",
   "execution_count": 23,
   "id": "afc2f150",
   "metadata": {},
   "outputs": [
    {
     "data": {
      "text/plain": [
       "'   Hello Java   '"
      ]
     },
     "execution_count": 23,
     "metadata": {},
     "output_type": "execute_result"
    }
   ],
   "source": [
    "# replace() -- replace the substring\n",
    "str.replace(\"Python\", \"Java\")"
   ]
  },
  {
   "cell_type": "code",
   "execution_count": 25,
   "id": "e18f7600",
   "metadata": {},
   "outputs": [
    {
     "data": {
      "text/plain": [
       "list"
      ]
     },
     "execution_count": 25,
     "metadata": {},
     "output_type": "execute_result"
    }
   ],
   "source": [
    "#split - split the given string into smaller parts based on the delimiter, default delimiter is space\n",
    "name = \"Hari Krishna Rajesh Ramu\"\n",
    "names = name.split()\n",
    "type(names)"
   ]
  },
  {
   "cell_type": "code",
   "execution_count": 26,
   "id": "9445120f",
   "metadata": {},
   "outputs": [
    {
     "data": {
      "text/plain": [
       "['123', 'MG Road', 'Bangalore']"
      ]
     },
     "execution_count": 26,
     "metadata": {},
     "output_type": "execute_result"
    }
   ],
   "source": [
    "address = \"123,MG Road,Bangalore\"\n",
    "address.split(\",\")"
   ]
  },
  {
   "cell_type": "code",
   "execution_count": 30,
   "id": "6515bd89",
   "metadata": {},
   "outputs": [
    {
     "data": {
      "text/plain": [
       "'Anil,Sunil,Kishore,Ramu'"
      ]
     },
     "execution_count": 30,
     "metadata": {},
     "output_type": "execute_result"
    }
   ],
   "source": [
    "#join() - join a list into a string\n",
    "names = [\"Anil\",\"Sunil\",\"Kishore\",\"Ramu\"]\n",
    "\",\".join(names)"
   ]
  },
  {
   "cell_type": "code",
   "execution_count": 32,
   "id": "2971507b",
   "metadata": {},
   "outputs": [
    {
     "data": {
      "text/plain": [
       "2"
      ]
     },
     "execution_count": 32,
     "metadata": {},
     "output_type": "execute_result"
    }
   ],
   "source": [
    "# find() --> Returns index of first occurance of the given character\n",
    "\"hello\".find('l')"
   ]
  },
  {
   "cell_type": "code",
   "execution_count": null,
   "id": "c73e6789",
   "metadata": {},
   "outputs": [
    {
     "data": {
      "text/plain": [
       "3"
      ]
     },
     "execution_count": 33,
     "metadata": {},
     "output_type": "execute_result"
    }
   ],
   "source": [
    "#count method returns the occurences fo the given character\n",
    "\"this is a aprogram \".count('a')"
   ]
  },
  {
   "cell_type": "code",
   "execution_count": 35,
   "id": "900c6f6d",
   "metadata": {},
   "outputs": [
    {
     "data": {
      "text/plain": [
       "False"
      ]
     },
     "execution_count": 35,
     "metadata": {},
     "output_type": "execute_result"
    }
   ],
   "source": [
    "#startswith() ---> check if the given string starts with the given charcater or not\n",
    "\n",
    "\"Hello, welcome\".startswith(\"he\")"
   ]
  },
  {
   "cell_type": "code",
   "execution_count": 36,
   "id": "f62dfeae",
   "metadata": {},
   "outputs": [
    {
     "data": {
      "text/plain": [
       "True"
      ]
     },
     "execution_count": 36,
     "metadata": {},
     "output_type": "execute_result"
    }
   ],
   "source": [
    "#ends with -- check if the given string is ending with the given string or not\n",
    "\"Hello welcome\".endswith(\"me\")"
   ]
  },
  {
   "cell_type": "code",
   "execution_count": 39,
   "id": "277f52b3",
   "metadata": {},
   "outputs": [
    {
     "name": "stdout",
     "output_type": "stream",
     "text": [
      "my name is Alice and age is 40\n"
     ]
    }
   ],
   "source": [
    "name =\"Alice\"\n",
    "age=40\n",
    "print(\"my name is {} and age is {}\".format(name,age))"
   ]
  },
  {
   "cell_type": "code",
   "execution_count": null,
   "id": "7b0ab0f4",
   "metadata": {},
   "outputs": [],
   "source": []
  }
 ],
 "metadata": {
  "kernelspec": {
   "display_name": "base",
   "language": "python",
   "name": "python3"
  },
  "language_info": {
   "codemirror_mode": {
    "name": "ipython",
    "version": 3
   },
   "file_extension": ".py",
   "mimetype": "text/x-python",
   "name": "python",
   "nbconvert_exporter": "python",
   "pygments_lexer": "ipython3",
   "version": "3.13.5"
  }
 },
 "nbformat": 4,
 "nbformat_minor": 5
}
