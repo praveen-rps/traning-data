{
 "cells": [
  {
   "cell_type": "code",
   "execution_count": 1,
   "id": "bc6d8901",
   "metadata": {},
   "outputs": [
    {
     "name": "stdout",
     "output_type": "stream",
     "text": [
      "The c is  1.0\n"
     ]
    }
   ],
   "source": [
    "a = int(input(\"Enter a number\"))\n",
    "b = int(input(\"enter another number\"))\n",
    "c = a/b\n",
    "print(\"The c is \",c)"
   ]
  },
  {
   "cell_type": "code",
   "execution_count": 2,
   "id": "46d3b06f",
   "metadata": {},
   "outputs": [
    {
     "name": "stdout",
     "output_type": "stream",
     "text": [
      "Inside the finally block\n"
     ]
    },
    {
     "ename": "ValueError",
     "evalue": "invalid literal for int() with base 10: ''",
     "output_type": "error",
     "traceback": [
      "\u001b[1;31m---------------------------------------------------------------------------\u001b[0m",
      "\u001b[1;31mValueError\u001b[0m                                Traceback (most recent call last)",
      "Cell \u001b[1;32mIn[2], line 3\u001b[0m\n\u001b[0;32m      1\u001b[0m \u001b[38;5;28;01mtry\u001b[39;00m:\n\u001b[0;32m      2\u001b[0m     a \u001b[38;5;241m=\u001b[39m \u001b[38;5;28mint\u001b[39m(\u001b[38;5;28minput\u001b[39m(\u001b[38;5;124m\"\u001b[39m\u001b[38;5;124mEnter a number\u001b[39m\u001b[38;5;124m\"\u001b[39m))\n\u001b[1;32m----> 3\u001b[0m     b \u001b[38;5;241m=\u001b[39m \u001b[38;5;28mint\u001b[39m(\u001b[38;5;28minput\u001b[39m(\u001b[38;5;124m\"\u001b[39m\u001b[38;5;124menter another number\u001b[39m\u001b[38;5;124m\"\u001b[39m))\n\u001b[0;32m      4\u001b[0m     c \u001b[38;5;241m=\u001b[39m a\u001b[38;5;241m/\u001b[39mb\n\u001b[0;32m      5\u001b[0m     \u001b[38;5;28mstr\u001b[39m \u001b[38;5;241m=\u001b[39m \u001b[38;5;124m\"\u001b[39m\u001b[38;5;124mHai\u001b[39m\u001b[38;5;124m\"\u001b[39m\n",
      "\u001b[1;31mValueError\u001b[0m: invalid literal for int() with base 10: ''"
     ]
    }
   ],
   "source": [
    "try:\n",
    "    a = int(input(\"Enter a number\"))\n",
    "    b = int(input(\"enter another number\"))\n",
    "    c = a/b\n",
    "    str = \"Hai\"\n",
    "    print(\"The c is \",c)\n",
    "    print(str[8])\n",
    "except ZeroDivisionError:\n",
    "    b = int(input(\"The b value is zero, division is not possible, so re enter the value\"))\n",
    "    c = a/b\n",
    "    print(\"The c is \",c)\n",
    "finally: \n",
    "   print(\"Inside the finally block\")\n",
    "print(\"After the finally block\")"
   ]
  },
  {
   "cell_type": "code",
   "execution_count": null,
   "id": "fff13a12",
   "metadata": {},
   "outputs": [
    {
     "name": "stdout",
     "output_type": "stream",
     "text": [
      "The c is  7.0\n",
      "a\n",
      "40\n",
      "THe exception is caught\n",
      "<class 'FileNotFoundError'>\n",
      "Inside the finally block\n",
      "After the finally block\n"
     ]
    }
   ],
   "source": [
    "try:\n",
    "    a = int(input(\"Enter a number\"))\n",
    "    b = int(input(\"enter another number\"))\n",
    "    c = a/b\n",
    "    str = \"Hai\"\n",
    "    print(\"The c is \",c)\n",
    "    print(str[1])\n",
    "    data = {\"name\":\"anil\", \"age\":40, \"city\":\"Hyderabad\"}\n",
    "    print(data[\"age\"])\n",
    "    file = open(\"zyx.txt\")\n",
    "    print(file.read())\n",
    "except ZeroDivisionError:\n",
    "    b = int(input(\"The b value is zero, division is not possible, so re enter the value\"))\n",
    "    c = a/b\n",
    "    print(\"The c is \",c)\n",
    "except IndexError:\n",
    "    print(\"you have index not in the string\")\n",
    "except KeyError:\n",
    "    print(\"the key provided is not in dictironary\")\n",
    "    key = input(\"Enter the valid key\")\n",
    "    print(data[key])\n",
    "except Exception as e:\n",
    "    print(\"THe exception is caught\")\n",
    "    print(type(e))\n",
    "else:\n",
    "    print(\"The Errors not occured\")\n",
    "finally: \n",
    "   print(\"Inside the finally block\")\n",
    "print(\"After the finally block\")"
   ]
  },
  {
   "cell_type": "code",
   "execution_count": null,
   "id": "66e92b91",
   "metadata": {},
   "outputs": [],
   "source": [
    "class TestException(Exception):\n",
    "    def __init__(self):\n",
    "        super().__init__(\"This is a test exception\")"
   ]
  },
  {
   "cell_type": "code",
   "execution_count": null,
   "id": "63b8e9c4",
   "metadata": {},
   "outputs": [
    {
     "name": "stdout",
     "output_type": "stream",
     "text": [
      "This is a test exception\n"
     ]
    }
   ],
   "source": [
    "try:\n",
    "    a = 10\n",
    "    b = 20\n",
    "    if a < b:\n",
    "        raise TestException\n",
    "    print(\"This is after if block\")\n",
    "except TestException as e:\n",
    "    print(e)"
   ]
  },
  {
   "cell_type": "code",
   "execution_count": 6,
   "id": "c1739fcb",
   "metadata": {},
   "outputs": [],
   "source": [
    "class InvalidAgeError(Exception):\n",
    "    def __init__(self):\n",
    "        super().__init__(\"Age cannot be more than 100\")"
   ]
  },
  {
   "cell_type": "code",
   "execution_count": 8,
   "id": "03fa005b",
   "metadata": {},
   "outputs": [],
   "source": [
    "class NegativeAgeError(Exception):\n",
    "    def __init__(self):\n",
    "        super().__init__(\"Age cannot be negative\")"
   ]
  },
  {
   "cell_type": "code",
   "execution_count": 10,
   "id": "9fd5fdd1",
   "metadata": {},
   "outputs": [
    {
     "name": "stdout",
     "output_type": "stream",
     "text": [
      "Age cannot be more than 100\n"
     ]
    }
   ],
   "source": [
    "age = int(input(\"Enter age\"))\n",
    "try:\n",
    "    if age < 0:\n",
    "        raise NegativeAgeError\n",
    "    elif age > 100:\n",
    "        raise InvalidAgeError\n",
    "    else:\n",
    "        print(\"Valid age \")\n",
    "except InvalidAgeError as e:\n",
    "    print(e)\n",
    "except NegativeAgeError as e:\n",
    "    print(e)"
   ]
  },
  {
   "cell_type": "code",
   "execution_count": null,
   "id": "692e73d5",
   "metadata": {},
   "outputs": [],
   "source": []
  }
 ],
 "metadata": {
  "kernelspec": {
   "display_name": "base",
   "language": "python",
   "name": "python3"
  },
  "language_info": {
   "codemirror_mode": {
    "name": "ipython",
    "version": 3
   },
   "file_extension": ".py",
   "mimetype": "text/x-python",
   "name": "python",
   "nbconvert_exporter": "python",
   "pygments_lexer": "ipython3",
   "version": "3.13.5"
  }
 },
 "nbformat": 4,
 "nbformat_minor": 5
}
