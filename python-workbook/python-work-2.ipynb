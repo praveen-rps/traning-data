{
 "cells": [
  {
   "cell_type": "code",
   "execution_count": 1,
   "id": "ea31d2c0",
   "metadata": {},
   "outputs": [
    {
     "name": "stdout",
     "output_type": "stream",
     "text": [
      "Hello\n"
     ]
    }
   ],
   "source": [
    "print(\"Hello\")"
   ]
  },
  {
   "cell_type": "code",
   "execution_count": 3,
   "id": "c8dbb087",
   "metadata": {},
   "outputs": [
    {
     "name": "stdout",
     "output_type": "stream",
     "text": [
      "1\n",
      "2\n",
      "3\n",
      "4\n",
      "5\n",
      "6\n",
      "7\n",
      "8\n",
      "9\n"
     ]
    }
   ],
   "source": [
    "for x in range(1,10):\n",
    "    print(x)"
   ]
  },
  {
   "cell_type": "code",
   "execution_count": 4,
   "id": "af364598",
   "metadata": {},
   "outputs": [
    {
     "name": "stdout",
     "output_type": "stream",
     "text": [
      "P\n",
      "y\n",
      "t\n",
      "h\n",
      "o\n",
      "n\n"
     ]
    }
   ],
   "source": [
    "for char in \"Python\":\n",
    "\tprint(char)"
   ]
  },
  {
   "cell_type": "code",
   "execution_count": null,
   "id": "054f68ca",
   "metadata": {},
   "outputs": [
    {
     "name": "stdout",
     "output_type": "stream",
     "text": [
      "1\n",
      "3\n",
      "5\n",
      "7\n",
      "9\n"
     ]
    }
   ],
   "source": [
    "for x in range(1,10,2):\n",
    "    print(x)"
   ]
  },
  {
   "cell_type": "code",
   "execution_count": 6,
   "id": "cfb78180",
   "metadata": {},
   "outputs": [
    {
     "name": "stdout",
     "output_type": "stream",
     "text": [
      "10\n",
      "9\n",
      "8\n",
      "7\n",
      "6\n",
      "5\n",
      "4\n",
      "3\n",
      "2\n",
      "1\n"
     ]
    }
   ],
   "source": [
    "for x in range(10,0,-1):\n",
    "    print(x)"
   ]
  },
  {
   "cell_type": "code",
   "execution_count": 7,
   "id": "a6416cdb",
   "metadata": {},
   "outputs": [
    {
     "name": "stdout",
     "output_type": "stream",
     "text": [
      "name = Alice\n",
      "age = 20\n"
     ]
    }
   ],
   "source": [
    "student = { \"name\":\"Alice\", \"age\":20}\n",
    "\n",
    "for key in student:\n",
    "    print(key, \"=\" , student[key])"
   ]
  },
  {
   "cell_type": "code",
   "execution_count": 9,
   "id": "110d5648",
   "metadata": {},
   "outputs": [
    {
     "name": "stdout",
     "output_type": "stream",
     "text": [
      "0\n",
      "1\n",
      "2\n",
      "Loop Completed\n"
     ]
    }
   ],
   "source": [
    "# for loop with else\n",
    "for i in range(3):\n",
    "    print(i)\n",
    "else:\n",
    "    print(\"Loop Completed\")"
   ]
  },
  {
   "cell_type": "code",
   "execution_count": 10,
   "id": "636176c0",
   "metadata": {},
   "outputs": [
    {
     "name": "stdout",
     "output_type": "stream",
     "text": [
      "0\n",
      "1\n",
      "2\n",
      "3\n",
      "4\n"
     ]
    }
   ],
   "source": [
    "for i in range(10):\n",
    "    if i == 5:\n",
    "        break\n",
    "    print(i)"
   ]
  },
  {
   "cell_type": "code",
   "execution_count": 11,
   "id": "6dbb27a2",
   "metadata": {},
   "outputs": [
    {
     "name": "stdout",
     "output_type": "stream",
     "text": [
      "0\n",
      "1\n",
      "2\n",
      "3\n",
      "4\n",
      "6\n",
      "7\n",
      "8\n",
      "9\n"
     ]
    }
   ],
   "source": [
    "for i in range(10):\n",
    "    if i == 5:\n",
    "        continue\n",
    "    print(i)"
   ]
  },
  {
   "cell_type": "code",
   "execution_count": 12,
   "id": "0414e8fa",
   "metadata": {},
   "outputs": [
    {
     "name": "stdout",
     "output_type": "stream",
     "text": [
      "0\n",
      "1\n",
      "2\n",
      "3\n",
      "4\n",
      "5\n",
      "6\n",
      "7\n",
      "8\n",
      "9\n"
     ]
    }
   ],
   "source": [
    "for i in range(10):\n",
    "    if i == 5:\n",
    "        pass\n",
    "    print(i)"
   ]
  },
  {
   "cell_type": "code",
   "execution_count": 15,
   "id": "36ecaa18",
   "metadata": {},
   "outputs": [
    {
     "name": "stdout",
     "output_type": "stream",
     "text": [
      "\n",
      "\n",
      " * \n",
      "\n",
      "\n",
      " * \n",
      " * \n",
      "\n",
      "\n"
     ]
    }
   ],
   "source": [
    "for i in range(1,4):\n",
    "    for j in range(1,i):\n",
    "        print(\" * \")\n",
    "    print(\"\\n\")"
   ]
  },
  {
   "cell_type": "code",
   "execution_count": 17,
   "id": "0abeee51",
   "metadata": {},
   "outputs": [
    {
     "name": "stdout",
     "output_type": "stream",
     "text": [
      " * \n",
      " *  * \n",
      " *  *  * \n"
     ]
    }
   ],
   "source": [
    "rows = 3\n",
    "for i in range(1,rows+1):\n",
    "    print(\" * \" * i)"
   ]
  },
  {
   "cell_type": "code",
   "execution_count": 19,
   "id": "2db37b90",
   "metadata": {},
   "outputs": [
    {
     "name": "stdout",
     "output_type": "stream",
     "text": [
      " Hello  Hello  Hello  Hello  Hello \n"
     ]
    }
   ],
   "source": [
    "print(\" Hello \" * 5)"
   ]
  },
  {
   "cell_type": "code",
   "execution_count": 22,
   "id": "2b3f5d71",
   "metadata": {},
   "outputs": [
    {
     "name": "stdout",
     "output_type": "stream",
     "text": [
      "     * \n",
      "    *  * \n",
      "   *  *  * \n",
      "  *  *  *  * \n",
      " *  *  *  *  * \n"
     ]
    }
   ],
   "source": [
    "rows = 5\n",
    "for i in range(1, rows+1):\n",
    "    print(\" \" * (rows-i)+ \" * \" * i)"
   ]
  },
  {
   "cell_type": "code",
   "execution_count": 32,
   "id": "622717f7",
   "metadata": {},
   "outputs": [
    {
     "name": "stdout",
     "output_type": "stream",
     "text": [
      "The factorial is  3628800\n"
     ]
    }
   ],
   "source": [
    "fact = 1\n",
    "n = int(input(\"Enter a number \"))\n",
    "if n == 1 or n == 0:\n",
    "    print(\"The factorial is 1\")\n",
    "elif n < 0:\n",
    "    print(\"Factorial is not defined\")\n",
    "else:\n",
    "    for i in range(1,n+1):\n",
    "        fact = fact * i\n",
    "    print(\"The factorial is \", fact)"
   ]
  },
  {
   "cell_type": "code",
   "execution_count": 33,
   "id": "360ae5a9",
   "metadata": {},
   "outputs": [],
   "source": [
    "countries= [\"India\",\"Japan\",\"China\",\"America\",\"Australia\",\"Swedan\",\"Norway\",\"Germany\"]"
   ]
  },
  {
   "cell_type": "code",
   "execution_count": 35,
   "id": "0c651b5f",
   "metadata": {},
   "outputs": [
    {
     "data": {
      "text/plain": [
       "['India', 'Japan']"
      ]
     },
     "execution_count": 35,
     "metadata": {},
     "output_type": "execute_result"
    }
   ],
   "source": [
    "countries[0:2]"
   ]
  },
  {
   "cell_type": "code",
   "execution_count": 36,
   "id": "14ab9db9",
   "metadata": {},
   "outputs": [
    {
     "data": {
      "text/plain": [
       "['India', 'Japan', 'China']"
      ]
     },
     "execution_count": 36,
     "metadata": {},
     "output_type": "execute_result"
    }
   ],
   "source": [
    "countries[:3]"
   ]
  },
  {
   "cell_type": "code",
   "execution_count": 37,
   "id": "f74d261b",
   "metadata": {},
   "outputs": [
    {
     "data": {
      "text/plain": [
       "['America', 'Australia', 'Swedan', 'Norway', 'Germany']"
      ]
     },
     "execution_count": 37,
     "metadata": {},
     "output_type": "execute_result"
    }
   ],
   "source": [
    "countries[3:]"
   ]
  },
  {
   "cell_type": "code",
   "execution_count": 38,
   "id": "924b3fa0",
   "metadata": {},
   "outputs": [
    {
     "data": {
      "text/plain": [
       "['Australia', 'Swedan', 'Norway']"
      ]
     },
     "execution_count": 38,
     "metadata": {},
     "output_type": "execute_result"
    }
   ],
   "source": [
    "countries[-4:-1]"
   ]
  },
  {
   "cell_type": "code",
   "execution_count": 39,
   "id": "348dae35",
   "metadata": {},
   "outputs": [],
   "source": [
    "countries.append(\"Nepal\")"
   ]
  },
  {
   "cell_type": "code",
   "execution_count": 40,
   "id": "bc144dca",
   "metadata": {},
   "outputs": [
    {
     "data": {
      "text/plain": [
       "['India',\n",
       " 'Japan',\n",
       " 'China',\n",
       " 'America',\n",
       " 'Australia',\n",
       " 'Swedan',\n",
       " 'Norway',\n",
       " 'Germany',\n",
       " 'Nepal']"
      ]
     },
     "execution_count": 40,
     "metadata": {},
     "output_type": "execute_result"
    }
   ],
   "source": [
    "countries"
   ]
  },
  {
   "cell_type": "code",
   "execution_count": 41,
   "id": "3ab309b2",
   "metadata": {},
   "outputs": [
    {
     "data": {
      "text/plain": [
       "['India',\n",
       " 'Japan',\n",
       " 'Canada',\n",
       " 'China',\n",
       " 'America',\n",
       " 'Australia',\n",
       " 'Swedan',\n",
       " 'Norway',\n",
       " 'Germany',\n",
       " 'Nepal']"
      ]
     },
     "execution_count": 41,
     "metadata": {},
     "output_type": "execute_result"
    }
   ],
   "source": [
    "countries.insert(2,\"Canada\")\n",
    "countries"
   ]
  },
  {
   "cell_type": "code",
   "execution_count": 42,
   "id": "c2d93ba3",
   "metadata": {},
   "outputs": [],
   "source": [
    "fruits1 = [\"banana\", \"apple\"]\n",
    "fruits2 = [\"cherry\", \"guava\"]\n",
    "fruits1.extend(fruits2)"
   ]
  },
  {
   "cell_type": "code",
   "execution_count": 43,
   "id": "54d00339",
   "metadata": {},
   "outputs": [
    {
     "data": {
      "text/plain": [
       "['banana', 'apple', 'cherry', 'guava']"
      ]
     },
     "execution_count": 43,
     "metadata": {},
     "output_type": "execute_result"
    }
   ],
   "source": [
    "fruits1"
   ]
  },
  {
   "cell_type": "code",
   "execution_count": 44,
   "id": "e2bf9bce",
   "metadata": {},
   "outputs": [
    {
     "data": {
      "text/plain": [
       "['banana', 'apple', 'cherry']"
      ]
     },
     "execution_count": 44,
     "metadata": {},
     "output_type": "execute_result"
    }
   ],
   "source": [
    "fruits1.remove(\"guava\")\n",
    "fruits1"
   ]
  },
  {
   "cell_type": "code",
   "execution_count": 45,
   "id": "e382bd30",
   "metadata": {},
   "outputs": [
    {
     "data": {
      "text/plain": [
       "'Nepal'"
      ]
     },
     "execution_count": 45,
     "metadata": {},
     "output_type": "execute_result"
    }
   ],
   "source": [
    "countries.pop()"
   ]
  },
  {
   "cell_type": "code",
   "execution_count": 46,
   "id": "66801f43",
   "metadata": {},
   "outputs": [
    {
     "data": {
      "text/plain": [
       "['India',\n",
       " 'Japan',\n",
       " 'Canada',\n",
       " 'China',\n",
       " 'America',\n",
       " 'Australia',\n",
       " 'Swedan',\n",
       " 'Norway',\n",
       " 'Germany']"
      ]
     },
     "execution_count": 46,
     "metadata": {},
     "output_type": "execute_result"
    }
   ],
   "source": [
    "countries"
   ]
  },
  {
   "cell_type": "code",
   "execution_count": 47,
   "id": "91a66851",
   "metadata": {},
   "outputs": [
    {
     "data": {
      "text/plain": [
       "'Japan'"
      ]
     },
     "execution_count": 47,
     "metadata": {},
     "output_type": "execute_result"
    }
   ],
   "source": [
    "countries.pop(1)"
   ]
  },
  {
   "cell_type": "code",
   "execution_count": 48,
   "id": "511f278a",
   "metadata": {},
   "outputs": [],
   "source": [
    "fruits1.clear()"
   ]
  },
  {
   "cell_type": "code",
   "execution_count": 49,
   "id": "212472cc",
   "metadata": {},
   "outputs": [
    {
     "data": {
      "text/plain": [
       "[]"
      ]
     },
     "execution_count": 49,
     "metadata": {},
     "output_type": "execute_result"
    }
   ],
   "source": [
    "fruits1"
   ]
  },
  {
   "cell_type": "code",
   "execution_count": 50,
   "id": "30d31e29",
   "metadata": {},
   "outputs": [
    {
     "data": {
      "text/plain": [
       "2"
      ]
     },
     "execution_count": 50,
     "metadata": {},
     "output_type": "execute_result"
    }
   ],
   "source": [
    "countries.index(\"China\")"
   ]
  },
  {
   "cell_type": "code",
   "execution_count": 52,
   "id": "4636148c",
   "metadata": {},
   "outputs": [
    {
     "data": {
      "text/plain": [
       "1"
      ]
     },
     "execution_count": 52,
     "metadata": {},
     "output_type": "execute_result"
    }
   ],
   "source": [
    "countries.count(\"India\")"
   ]
  },
  {
   "cell_type": "code",
   "execution_count": 53,
   "id": "f96c34f8",
   "metadata": {},
   "outputs": [],
   "source": [
    "countries.append(\"India\")"
   ]
  },
  {
   "cell_type": "code",
   "execution_count": 54,
   "id": "4ac7b0d5",
   "metadata": {},
   "outputs": [
    {
     "data": {
      "text/plain": [
       "2"
      ]
     },
     "execution_count": 54,
     "metadata": {},
     "output_type": "execute_result"
    }
   ],
   "source": [
    "countries.count(\"India\")"
   ]
  },
  {
   "cell_type": "code",
   "execution_count": 56,
   "id": "cf12e1db",
   "metadata": {},
   "outputs": [],
   "source": [
    "x = countries.sort()"
   ]
  },
  {
   "cell_type": "code",
   "execution_count": 59,
   "id": "71c41d5b",
   "metadata": {},
   "outputs": [
    {
     "data": {
      "text/plain": [
       "['America',\n",
       " 'Australia',\n",
       " 'Canada',\n",
       " 'China',\n",
       " 'Germany',\n",
       " 'India',\n",
       " 'India',\n",
       " 'Norway',\n",
       " 'Swedan']"
      ]
     },
     "execution_count": 59,
     "metadata": {},
     "output_type": "execute_result"
    }
   ],
   "source": [
    "countries"
   ]
  },
  {
   "cell_type": "code",
   "execution_count": 58,
   "id": "4b31865d",
   "metadata": {},
   "outputs": [
    {
     "name": "stdout",
     "output_type": "stream",
     "text": [
      "None\n"
     ]
    }
   ],
   "source": [
    "print(x)"
   ]
  },
  {
   "cell_type": "code",
   "execution_count": 60,
   "id": "79c39413",
   "metadata": {},
   "outputs": [],
   "source": [
    "countries.sort(reverse=True)"
   ]
  },
  {
   "cell_type": "code",
   "execution_count": 61,
   "id": "e1062ac5",
   "metadata": {},
   "outputs": [
    {
     "data": {
      "text/plain": [
       "['Swedan',\n",
       " 'Norway',\n",
       " 'India',\n",
       " 'India',\n",
       " 'Germany',\n",
       " 'China',\n",
       " 'Canada',\n",
       " 'Australia',\n",
       " 'America']"
      ]
     },
     "execution_count": 61,
     "metadata": {},
     "output_type": "execute_result"
    }
   ],
   "source": [
    "countries"
   ]
  },
  {
   "cell_type": "code",
   "execution_count": 62,
   "id": "5cc8af30",
   "metadata": {},
   "outputs": [],
   "source": [
    "countries.reverse()"
   ]
  },
  {
   "cell_type": "code",
   "execution_count": 63,
   "id": "995eac2a",
   "metadata": {},
   "outputs": [
    {
     "data": {
      "text/plain": [
       "['America',\n",
       " 'Australia',\n",
       " 'Canada',\n",
       " 'China',\n",
       " 'Germany',\n",
       " 'India',\n",
       " 'India',\n",
       " 'Norway',\n",
       " 'Swedan']"
      ]
     },
     "execution_count": 63,
     "metadata": {},
     "output_type": "execute_result"
    }
   ],
   "source": [
    "countries"
   ]
  },
  {
   "cell_type": "code",
   "execution_count": 64,
   "id": "ae21d245",
   "metadata": {},
   "outputs": [],
   "source": [
    "temp = countries.copy()"
   ]
  },
  {
   "cell_type": "code",
   "execution_count": 65,
   "id": "ecd10264",
   "metadata": {},
   "outputs": [
    {
     "data": {
      "text/plain": [
       "['America',\n",
       " 'Australia',\n",
       " 'Canada',\n",
       " 'China',\n",
       " 'Germany',\n",
       " 'India',\n",
       " 'India',\n",
       " 'Norway',\n",
       " 'Swedan']"
      ]
     },
     "execution_count": 65,
     "metadata": {},
     "output_type": "execute_result"
    }
   ],
   "source": [
    "temp"
   ]
  },
  {
   "cell_type": "code",
   "execution_count": 1,
   "id": "447ea24a",
   "metadata": {},
   "outputs": [
    {
     "name": "stdout",
     "output_type": "stream",
     "text": [
      "The Average is :  81.4\n"
     ]
    }
   ],
   "source": [
    "marks = [78,85,90,66,88]\n",
    "average = sum(marks)/ len(marks)\n",
    "print(\"The Average is : \", average)"
   ]
  },
  {
   "cell_type": "code",
   "execution_count": 2,
   "id": "c651e55f",
   "metadata": {},
   "outputs": [
    {
     "name": "stdout",
     "output_type": "stream",
     "text": [
      "Alice  :  Present\n",
      "Bob  :  Absent\n",
      "Charlie  :  Absent\n",
      "David  :  Present\n"
     ]
    }
   ],
   "source": [
    "students = [\"Alice\", \"Bob\", \"Charlie\", \"David\"]\n",
    "present = [\"Alice\", \"David\"]\n",
    "for student in students:\n",
    "    status = \"Present\" if student in present else \"Absent\"\n",
    "    print(student , \" : \", status)\n"
   ]
  },
  {
   "cell_type": "code",
   "execution_count": 4,
   "id": "01bb427e",
   "metadata": {},
   "outputs": [
    {
     "name": "stdout",
     "output_type": "stream",
     "text": [
      "['Books', 'Boats']\n"
     ]
    }
   ],
   "source": [
    "products = [\"Laptop\", \"Mobiles\", \"Chairs\", \"Books\", \"TVs\", \"Tables\", \"Boats\"]\n",
    "search = input(\"Enter search string\")\n",
    "results = [p for p in products if search.lower() in p.lower() ]\n",
    "print(results)"
   ]
  },
  {
   "cell_type": "code",
   "execution_count": 7,
   "id": "1a845191",
   "metadata": {},
   "outputs": [
    {
     "name": "stdout",
     "output_type": "stream",
     "text": [
      "['apple', 'cherry', 'banana']\n"
     ]
    }
   ],
   "source": [
    "data = [\"  apple \", \" \", \"cherry\", \"    \",\"banana\"]\n",
    "cleaned_data = [item.strip() for item in data if item.strip()]\n",
    "print(cleaned_data)"
   ]
  },
  {
   "cell_type": "code",
   "execution_count": 8,
   "id": "9c3bd7fe",
   "metadata": {},
   "outputs": [],
   "source": [
    "student = \"Raj\",22,\"ECE\""
   ]
  },
  {
   "cell_type": "code",
   "execution_count": 9,
   "id": "ab0a9dbd",
   "metadata": {},
   "outputs": [
    {
     "data": {
      "text/plain": [
       "tuple"
      ]
     },
     "execution_count": 9,
     "metadata": {},
     "output_type": "execute_result"
    }
   ],
   "source": [
    "type(student)"
   ]
  },
  {
   "cell_type": "code",
   "execution_count": 10,
   "id": "41e1ee5b",
   "metadata": {},
   "outputs": [
    {
     "data": {
      "text/plain": [
       "('Raj', 22, 'ECE')"
      ]
     },
     "execution_count": 10,
     "metadata": {},
     "output_type": "execute_result"
    }
   ],
   "source": [
    "student"
   ]
  },
  {
   "cell_type": "code",
   "execution_count": 11,
   "id": "ff80c381",
   "metadata": {},
   "outputs": [
    {
     "data": {
      "text/plain": [
       "'Raj'"
      ]
     },
     "execution_count": 11,
     "metadata": {},
     "output_type": "execute_result"
    }
   ],
   "source": [
    "student[0]"
   ]
  },
  {
   "cell_type": "code",
   "execution_count": 13,
   "id": "18a7f159",
   "metadata": {},
   "outputs": [
    {
     "ename": "IndexError",
     "evalue": "tuple index out of range",
     "output_type": "error",
     "traceback": [
      "\u001b[1;31m---------------------------------------------------------------------------\u001b[0m",
      "\u001b[1;31mIndexError\u001b[0m                                Traceback (most recent call last)",
      "Cell \u001b[1;32mIn[13], line 1\u001b[0m\n\u001b[1;32m----> 1\u001b[0m student[\u001b[38;5;241m4\u001b[39m]\n",
      "\u001b[1;31mIndexError\u001b[0m: tuple index out of range"
     ]
    }
   ],
   "source": [
    "student[4]"
   ]
  },
  {
   "cell_type": "code",
   "execution_count": 14,
   "id": "9568099b",
   "metadata": {},
   "outputs": [
    {
     "ename": "TypeError",
     "evalue": "'tuple' object does not support item assignment",
     "output_type": "error",
     "traceback": [
      "\u001b[1;31m---------------------------------------------------------------------------\u001b[0m",
      "\u001b[1;31mTypeError\u001b[0m                                 Traceback (most recent call last)",
      "Cell \u001b[1;32mIn[14], line 1\u001b[0m\n\u001b[1;32m----> 1\u001b[0m student[\u001b[38;5;241m1\u001b[39m]\u001b[38;5;241m=\u001b[39m\u001b[38;5;241m34\u001b[39m\n",
      "\u001b[1;31mTypeError\u001b[0m: 'tuple' object does not support item assignment"
     ]
    }
   ],
   "source": [
    "student[1]=34"
   ]
  },
  {
   "cell_type": "code",
   "execution_count": 15,
   "id": "f2cf49fa",
   "metadata": {},
   "outputs": [],
   "source": [
    "sname, sage, sbranch = student"
   ]
  },
  {
   "cell_type": "code",
   "execution_count": 16,
   "id": "5d12fbd5",
   "metadata": {},
   "outputs": [
    {
     "name": "stdout",
     "output_type": "stream",
     "text": [
      "Raj   22   ECE\n"
     ]
    }
   ],
   "source": [
    "print(sname,\" \",sage,\" \",sbranch)"
   ]
  },
  {
   "cell_type": "code",
   "execution_count": 17,
   "id": "3ea74f97",
   "metadata": {},
   "outputs": [],
   "source": [
    "str = \"   Hello Python   \""
   ]
  },
  {
   "cell_type": "code",
   "execution_count": 18,
   "id": "4321d9d7",
   "metadata": {},
   "outputs": [
    {
     "data": {
      "text/plain": [
       "'   hello python   '"
      ]
     },
     "execution_count": 18,
     "metadata": {},
     "output_type": "execute_result"
    }
   ],
   "source": [
    "str.lower()"
   ]
  },
  {
   "cell_type": "code",
   "execution_count": 19,
   "id": "72aa5608",
   "metadata": {},
   "outputs": [
    {
     "data": {
      "text/plain": [
       "'   HELLO PYTHON   '"
      ]
     },
     "execution_count": 19,
     "metadata": {},
     "output_type": "execute_result"
    }
   ],
   "source": [
    "str.upper()"
   ]
  },
  {
   "cell_type": "code",
   "execution_count": 20,
   "id": "0f314b47",
   "metadata": {},
   "outputs": [
    {
     "data": {
      "text/plain": [
       "'Hello Python'"
      ]
     },
     "execution_count": 20,
     "metadata": {},
     "output_type": "execute_result"
    }
   ],
   "source": [
    "str.strip()"
   ]
  },
  {
   "cell_type": "code",
   "execution_count": 21,
   "id": "730b23ea",
   "metadata": {},
   "outputs": [
    {
     "data": {
      "text/plain": [
       "18"
      ]
     },
     "execution_count": 21,
     "metadata": {},
     "output_type": "execute_result"
    }
   ],
   "source": [
    "len(str)"
   ]
  },
  {
   "cell_type": "code",
   "execution_count": 22,
   "id": "e9c64423",
   "metadata": {},
   "outputs": [
    {
     "data": {
      "text/plain": [
       "12"
      ]
     },
     "execution_count": 22,
     "metadata": {},
     "output_type": "execute_result"
    }
   ],
   "source": [
    "len(str.strip())"
   ]
  },
  {
   "cell_type": "code",
   "execution_count": 23,
   "id": "afc2f150",
   "metadata": {},
   "outputs": [
    {
     "data": {
      "text/plain": [
       "'   Hello Java   '"
      ]
     },
     "execution_count": 23,
     "metadata": {},
     "output_type": "execute_result"
    }
   ],
   "source": [
    "# replace() -- replace the substring\n",
    "str.replace(\"Python\", \"Java\")"
   ]
  },
  {
   "cell_type": "code",
   "execution_count": 25,
   "id": "e18f7600",
   "metadata": {},
   "outputs": [
    {
     "data": {
      "text/plain": [
       "list"
      ]
     },
     "execution_count": 25,
     "metadata": {},
     "output_type": "execute_result"
    }
   ],
   "source": [
    "#split - split the given string into smaller parts based on the delimiter, default delimiter is space\n",
    "name = \"Hari Krishna Rajesh Ramu\"\n",
    "names = name.split()\n",
    "type(names)"
   ]
  },
  {
   "cell_type": "code",
   "execution_count": 26,
   "id": "9445120f",
   "metadata": {},
   "outputs": [
    {
     "data": {
      "text/plain": [
       "['123', 'MG Road', 'Bangalore']"
      ]
     },
     "execution_count": 26,
     "metadata": {},
     "output_type": "execute_result"
    }
   ],
   "source": [
    "address = \"123,MG Road,Bangalore\"\n",
    "address.split(\",\")"
   ]
  },
  {
   "cell_type": "code",
   "execution_count": 30,
   "id": "6515bd89",
   "metadata": {},
   "outputs": [
    {
     "data": {
      "text/plain": [
       "'Anil,Sunil,Kishore,Ramu'"
      ]
     },
     "execution_count": 30,
     "metadata": {},
     "output_type": "execute_result"
    }
   ],
   "source": [
    "#join() - join a list into a string\n",
    "names = [\"Anil\",\"Sunil\",\"Kishore\",\"Ramu\"]\n",
    "\",\".join(names)"
   ]
  },
  {
   "cell_type": "code",
   "execution_count": 32,
   "id": "2971507b",
   "metadata": {},
   "outputs": [
    {
     "data": {
      "text/plain": [
       "2"
      ]
     },
     "execution_count": 32,
     "metadata": {},
     "output_type": "execute_result"
    }
   ],
   "source": [
    "# find() --> Returns index of first occurance of the given character\n",
    "\"hello\".find('l')"
   ]
  },
  {
   "cell_type": "code",
   "execution_count": null,
   "id": "c73e6789",
   "metadata": {},
   "outputs": [
    {
     "data": {
      "text/plain": [
       "3"
      ]
     },
     "execution_count": 33,
     "metadata": {},
     "output_type": "execute_result"
    }
   ],
   "source": [
    "#count method returns the occurences fo the given character\n",
    "\"this is a aprogram \".count('a')"
   ]
  },
  {
   "cell_type": "code",
   "execution_count": 35,
   "id": "900c6f6d",
   "metadata": {},
   "outputs": [
    {
     "data": {
      "text/plain": [
       "False"
      ]
     },
     "execution_count": 35,
     "metadata": {},
     "output_type": "execute_result"
    }
   ],
   "source": [
    "#startswith() ---> check if the given string starts with the given charcater or not\n",
    "\n",
    "\"Hello, welcome\".startswith(\"he\")"
   ]
  },
  {
   "cell_type": "code",
   "execution_count": 36,
   "id": "f62dfeae",
   "metadata": {},
   "outputs": [
    {
     "data": {
      "text/plain": [
       "True"
      ]
     },
     "execution_count": 36,
     "metadata": {},
     "output_type": "execute_result"
    }
   ],
   "source": [
    "#ends with -- check if the given string is ending with the given string or not\n",
    "\"Hello welcome\".endswith(\"me\")"
   ]
  },
  {
   "cell_type": "code",
   "execution_count": 39,
   "id": "277f52b3",
   "metadata": {},
   "outputs": [
    {
     "name": "stdout",
     "output_type": "stream",
     "text": [
      "my name is Alice and age is 40\n"
     ]
    }
   ],
   "source": [
    "name =\"Alice\"\n",
    "age=40\n",
    "print(\"my name is {} and age is {}\".format(name,age))"
   ]
  },
  {
   "cell_type": "code",
   "execution_count": 44,
   "id": "7b0ab0f4",
   "metadata": {},
   "outputs": [
    {
     "name": "stdout",
     "output_type": "stream",
     "text": [
      "Given String is Pallindrome\n"
     ]
    }
   ],
   "source": [
    "# To Check the given string is string pallindrome\n",
    "str = input(\"Enter the string \")\n",
    "if str.lower() == str[::-1].lower():\n",
    "    print(\"Given String is Pallindrome\")\n",
    "else:\n",
    "    print(\"Not a pallindrome\")"
   ]
  },
  {
   "cell_type": "code",
   "execution_count": 47,
   "id": "e4c7467d",
   "metadata": {},
   "outputs": [
    {
     "name": "stdout",
     "output_type": "stream",
     "text": [
      "Vowel Count :  6\n",
      "Consonent Count 17\n"
     ]
    }
   ],
   "source": [
    "# Program to count the number of vowels and consonents\n",
    "str = input(\"Enter a string to process\")\n",
    "vowels = \"aeiouAEIOU\"\n",
    "vcount, ccount = 0, 0\n",
    "for char in str:\n",
    "    if char.isalpha():\n",
    "        if char in vowels:\n",
    "            vcount+=1\n",
    "        else:\n",
    "            ccount+=1\n",
    "print(\"Vowel Count : \", vcount)\n",
    "print(\"Consonent Count\", ccount)"
   ]
  },
  {
   "cell_type": "code",
   "execution_count": null,
   "id": "0a109d23",
   "metadata": {},
   "outputs": [
    {
     "name": "stdout",
     "output_type": "stream",
     "text": [
      "progamin \n"
     ]
    }
   ],
   "source": [
    "# Program to remove the duplicate characters from the given string\n",
    "str = input(\"Enter the string\")\n",
    "data = \"\" #programin\n",
    "for char in str:\n",
    "    if char not in data:\n",
    "        data+=char;\n",
    "print(data)"
   ]
  },
  {
   "cell_type": "code",
   "execution_count": 1,
   "id": "0356f72e",
   "metadata": {},
   "outputs": [
    {
     "data": {
      "text/plain": [
       "set"
      ]
     },
     "execution_count": 1,
     "metadata": {},
     "output_type": "execute_result"
    }
   ],
   "source": [
    "s = {1,2,3,4,5}\n",
    "type(s)"
   ]
  },
  {
   "cell_type": "code",
   "execution_count": 2,
   "id": "5880036a",
   "metadata": {},
   "outputs": [],
   "source": [
    "s = set([1,2,3])"
   ]
  },
  {
   "cell_type": "code",
   "execution_count": 3,
   "id": "57c8ef0b",
   "metadata": {},
   "outputs": [
    {
     "data": {
      "text/plain": [
       "set"
      ]
     },
     "execution_count": 3,
     "metadata": {},
     "output_type": "execute_result"
    }
   ],
   "source": [
    "type(s)"
   ]
  },
  {
   "cell_type": "code",
   "execution_count": 4,
   "id": "1d94d6ab",
   "metadata": {},
   "outputs": [],
   "source": [
    "s.add(10)"
   ]
  },
  {
   "cell_type": "code",
   "execution_count": 5,
   "id": "cddcd1ac",
   "metadata": {},
   "outputs": [
    {
     "data": {
      "text/plain": [
       "{1, 2, 3, 10}"
      ]
     },
     "execution_count": 5,
     "metadata": {},
     "output_type": "execute_result"
    }
   ],
   "source": [
    "s"
   ]
  },
  {
   "cell_type": "code",
   "execution_count": 6,
   "id": "3d44d125",
   "metadata": {},
   "outputs": [
    {
     "data": {
      "text/plain": [
       "{1, 2, 3, 10, 20, 30, 40}"
      ]
     },
     "execution_count": 6,
     "metadata": {},
     "output_type": "execute_result"
    }
   ],
   "source": [
    "s1 = {20,30,40}\n",
    "s.update(s1)\n",
    "s"
   ]
  },
  {
   "cell_type": "code",
   "execution_count": 7,
   "id": "aa417d6a",
   "metadata": {},
   "outputs": [],
   "source": [
    "s.remove(10)"
   ]
  },
  {
   "cell_type": "code",
   "execution_count": 8,
   "id": "b9623280",
   "metadata": {},
   "outputs": [
    {
     "data": {
      "text/plain": [
       "{1, 2, 3, 20, 30, 40}"
      ]
     },
     "execution_count": 8,
     "metadata": {},
     "output_type": "execute_result"
    }
   ],
   "source": [
    "s"
   ]
  },
  {
   "cell_type": "code",
   "execution_count": 9,
   "id": "ec55170d",
   "metadata": {},
   "outputs": [
    {
     "ename": "KeyError",
     "evalue": "100",
     "output_type": "error",
     "traceback": [
      "\u001b[1;31m---------------------------------------------------------------------------\u001b[0m",
      "\u001b[1;31mKeyError\u001b[0m                                  Traceback (most recent call last)",
      "Cell \u001b[1;32mIn[9], line 1\u001b[0m\n\u001b[1;32m----> 1\u001b[0m s\u001b[38;5;241m.\u001b[39mremove(\u001b[38;5;241m100\u001b[39m)\n",
      "\u001b[1;31mKeyError\u001b[0m: 100"
     ]
    }
   ],
   "source": [
    "s.remove(100)"
   ]
  },
  {
   "cell_type": "code",
   "execution_count": 10,
   "id": "990fb3cb",
   "metadata": {},
   "outputs": [],
   "source": [
    "s.discard(100)"
   ]
  },
  {
   "cell_type": "code",
   "execution_count": 12,
   "id": "656ed0f1",
   "metadata": {},
   "outputs": [
    {
     "data": {
      "text/plain": [
       "2"
      ]
     },
     "execution_count": 12,
     "metadata": {},
     "output_type": "execute_result"
    }
   ],
   "source": [
    "s.pop()"
   ]
  },
  {
   "cell_type": "code",
   "execution_count": 13,
   "id": "1aaf3307",
   "metadata": {},
   "outputs": [
    {
     "data": {
      "text/plain": [
       "{3, 20, 30, 40}"
      ]
     },
     "execution_count": 13,
     "metadata": {},
     "output_type": "execute_result"
    }
   ],
   "source": [
    "s"
   ]
  },
  {
   "cell_type": "code",
   "execution_count": 14,
   "id": "4e60151f",
   "metadata": {},
   "outputs": [
    {
     "name": "stdout",
     "output_type": "stream",
     "text": [
      "3\n"
     ]
    }
   ],
   "source": [
    "print(s.pop())"
   ]
  },
  {
   "cell_type": "code",
   "execution_count": 15,
   "id": "c8488a5e",
   "metadata": {},
   "outputs": [],
   "source": [
    "s.clear()"
   ]
  },
  {
   "cell_type": "code",
   "execution_count": 16,
   "id": "0bdf1e7c",
   "metadata": {},
   "outputs": [
    {
     "data": {
      "text/plain": [
       "set()"
      ]
     },
     "execution_count": 16,
     "metadata": {},
     "output_type": "execute_result"
    }
   ],
   "source": [
    "s"
   ]
  },
  {
   "cell_type": "code",
   "execution_count": 20,
   "id": "0bf6ba81",
   "metadata": {},
   "outputs": [
    {
     "data": {
      "text/plain": [
       "{1, 2, 3, 4, 5, 6}"
      ]
     },
     "execution_count": 20,
     "metadata": {},
     "output_type": "execute_result"
    }
   ],
   "source": [
    "s1 = {1,2,3,4,5}\n",
    "s2 = {3,4,5,6}\n",
    "s1.union(s2)"
   ]
  },
  {
   "cell_type": "code",
   "execution_count": 21,
   "id": "5fbb044b",
   "metadata": {},
   "outputs": [
    {
     "data": {
      "text/plain": [
       "{3, 4, 5}"
      ]
     },
     "execution_count": 21,
     "metadata": {},
     "output_type": "execute_result"
    }
   ],
   "source": [
    "s1.intersection(s2)"
   ]
  },
  {
   "cell_type": "code",
   "execution_count": 22,
   "id": "b9c0450b",
   "metadata": {},
   "outputs": [
    {
     "data": {
      "text/plain": [
       "{1, 2}"
      ]
     },
     "execution_count": 22,
     "metadata": {},
     "output_type": "execute_result"
    }
   ],
   "source": [
    "s1.difference(s2)"
   ]
  },
  {
   "cell_type": "code",
   "execution_count": 24,
   "id": "19a02ac0",
   "metadata": {},
   "outputs": [
    {
     "data": {
      "text/plain": [
       "{6}"
      ]
     },
     "execution_count": 24,
     "metadata": {},
     "output_type": "execute_result"
    }
   ],
   "source": [
    "s2.difference(s1)"
   ]
  },
  {
   "cell_type": "code",
   "execution_count": 25,
   "id": "6dddea67",
   "metadata": {},
   "outputs": [
    {
     "data": {
      "text/plain": [
       "{1, 2, 6}"
      ]
     },
     "execution_count": 25,
     "metadata": {},
     "output_type": "execute_result"
    }
   ],
   "source": [
    "s1.symmetric_difference(s2)"
   ]
  },
  {
   "cell_type": "code",
   "execution_count": 27,
   "id": "9357947e",
   "metadata": {},
   "outputs": [
    {
     "data": {
      "text/plain": [
       "False"
      ]
     },
     "execution_count": 27,
     "metadata": {},
     "output_type": "execute_result"
    }
   ],
   "source": [
    "s2.issubset(s1)"
   ]
  },
  {
   "cell_type": "code",
   "execution_count": 28,
   "id": "62b7d1aa",
   "metadata": {},
   "outputs": [
    {
     "data": {
      "text/plain": [
       "False"
      ]
     },
     "execution_count": 28,
     "metadata": {},
     "output_type": "execute_result"
    }
   ],
   "source": [
    "s1.isdisjoint(s2)"
   ]
  },
  {
   "cell_type": "code",
   "execution_count": 29,
   "id": "9b37d54c",
   "metadata": {},
   "outputs": [
    {
     "data": {
      "text/plain": [
       "True"
      ]
     },
     "execution_count": 29,
     "metadata": {},
     "output_type": "execute_result"
    }
   ],
   "source": [
    "s1 = {1,2,3}\n",
    "s2 = {4,5,6}\n",
    "s1.isdisjoint(s2)"
   ]
  },
  {
   "cell_type": "code",
   "execution_count": 30,
   "id": "d12bc2ed",
   "metadata": {},
   "outputs": [
    {
     "name": "stdout",
     "output_type": "stream",
     "text": [
      "1\n",
      "2\n",
      "3\n"
     ]
    }
   ],
   "source": [
    "for x in s1:\n",
    "    print(x)"
   ]
  },
  {
   "cell_type": "code",
   "execution_count": 32,
   "id": "18c75fa1",
   "metadata": {},
   "outputs": [
    {
     "name": "stdout",
     "output_type": "stream",
     "text": [
      "{'apple', 'banana', 'cherry'}\n"
     ]
    }
   ],
   "source": [
    "fruits = {\"apple\",\"banana\",\"cherry\"}\n",
    "print(fruits)"
   ]
  },
  {
   "cell_type": "code",
   "execution_count": 33,
   "id": "0f7c7387",
   "metadata": {},
   "outputs": [
    {
     "name": "stdout",
     "output_type": "stream",
     "text": [
      "10\n",
      "20\n",
      "30\n",
      "40\n"
     ]
    }
   ],
   "source": [
    "import array\n",
    "x = array.array('i',[10,20,30,40])\n",
    "type(x)\n",
    "for i in x:\n",
    "    print(i)"
   ]
  },
  {
   "cell_type": "code",
   "execution_count": 34,
   "id": "3700f84e",
   "metadata": {},
   "outputs": [
    {
     "data": {
      "text/plain": [
       "array.array"
      ]
     },
     "execution_count": 34,
     "metadata": {},
     "output_type": "execute_result"
    }
   ],
   "source": [
    "type(x)"
   ]
  },
  {
   "cell_type": "code",
   "execution_count": 35,
   "id": "507df12d",
   "metadata": {},
   "outputs": [
    {
     "data": {
      "text/plain": [
       "array('i', [10, 20, 30, 40, 100])"
      ]
     },
     "execution_count": 35,
     "metadata": {},
     "output_type": "execute_result"
    }
   ],
   "source": [
    "x.append(100)\n",
    "x"
   ]
  },
  {
   "cell_type": "code",
   "execution_count": 36,
   "id": "cb559270",
   "metadata": {},
   "outputs": [],
   "source": [
    "x.remove(10)"
   ]
  },
  {
   "cell_type": "code",
   "execution_count": 37,
   "id": "612a5958",
   "metadata": {},
   "outputs": [
    {
     "data": {
      "text/plain": [
       "array('i', [20, 30, 40, 100])"
      ]
     },
     "execution_count": 37,
     "metadata": {},
     "output_type": "execute_result"
    }
   ],
   "source": [
    "x"
   ]
  },
  {
   "cell_type": "code",
   "execution_count": 38,
   "id": "2374e9d3",
   "metadata": {},
   "outputs": [
    {
     "ename": "IndexError",
     "evalue": "pop index out of range",
     "output_type": "error",
     "traceback": [
      "\u001b[1;31m---------------------------------------------------------------------------\u001b[0m",
      "\u001b[1;31mIndexError\u001b[0m                                Traceback (most recent call last)",
      "Cell \u001b[1;32mIn[38], line 1\u001b[0m\n\u001b[1;32m----> 1\u001b[0m x\u001b[38;5;241m.\u001b[39mpop(\u001b[38;5;241m10\u001b[39m)\n",
      "\u001b[1;31mIndexError\u001b[0m: pop index out of range"
     ]
    }
   ],
   "source": [
    "x.pop(10)"
   ]
  },
  {
   "cell_type": "code",
   "execution_count": 39,
   "id": "4fc1c38d",
   "metadata": {},
   "outputs": [
    {
     "data": {
      "text/plain": [
       "100"
      ]
     },
     "execution_count": 39,
     "metadata": {},
     "output_type": "execute_result"
    }
   ],
   "source": [
    "x.pop(3)"
   ]
  },
  {
   "cell_type": "code",
   "execution_count": 40,
   "id": "4be0bce6",
   "metadata": {},
   "outputs": [
    {
     "data": {
      "text/plain": [
       "40"
      ]
     },
     "execution_count": 40,
     "metadata": {},
     "output_type": "execute_result"
    }
   ],
   "source": [
    "x[0]\n",
    "x[-1]"
   ]
  },
  {
   "cell_type": "code",
   "execution_count": 41,
   "id": "33bb05ed",
   "metadata": {},
   "outputs": [
    {
     "data": {
      "text/plain": [
       "40"
      ]
     },
     "execution_count": 41,
     "metadata": {},
     "output_type": "execute_result"
    }
   ],
   "source": [
    "x[-1]"
   ]
  },
  {
   "cell_type": "code",
   "execution_count": 42,
   "id": "cced14e2",
   "metadata": {},
   "outputs": [
    {
     "data": {
      "text/plain": [
       "20"
      ]
     },
     "execution_count": 42,
     "metadata": {},
     "output_type": "execute_result"
    }
   ],
   "source": [
    "x[0]"
   ]
  },
  {
   "cell_type": "code",
   "execution_count": 43,
   "id": "af546e86",
   "metadata": {},
   "outputs": [
    {
     "data": {
      "text/plain": [
       "array('i', [20, 30, 40])"
      ]
     },
     "execution_count": 43,
     "metadata": {},
     "output_type": "execute_result"
    }
   ],
   "source": [
    "x"
   ]
  },
  {
   "cell_type": "code",
   "execution_count": 44,
   "id": "1c182886",
   "metadata": {},
   "outputs": [],
   "source": [
    "x.reverse()"
   ]
  },
  {
   "cell_type": "code",
   "execution_count": 45,
   "id": "5830796b",
   "metadata": {},
   "outputs": [
    {
     "data": {
      "text/plain": [
       "array('i', [40, 30, 20])"
      ]
     },
     "execution_count": 45,
     "metadata": {},
     "output_type": "execute_result"
    }
   ],
   "source": [
    "x"
   ]
  },
  {
   "cell_type": "code",
   "execution_count": 46,
   "id": "2f7d3a6c",
   "metadata": {},
   "outputs": [
    {
     "data": {
      "text/plain": [
       "array.array"
      ]
     },
     "execution_count": 46,
     "metadata": {},
     "output_type": "execute_result"
    }
   ],
   "source": [
    "type(x)"
   ]
  },
  {
   "cell_type": "code",
   "execution_count": 47,
   "id": "cf046090",
   "metadata": {},
   "outputs": [
    {
     "data": {
      "text/plain": [
       "list"
      ]
     },
     "execution_count": 47,
     "metadata": {},
     "output_type": "execute_result"
    }
   ],
   "source": [
    "t = x.tolist()\n",
    "type(t)"
   ]
  },
  {
   "cell_type": "code",
   "execution_count": 48,
   "id": "4f47b6bd",
   "metadata": {},
   "outputs": [
    {
     "name": "stdout",
     "output_type": "stream",
     "text": [
      "Hello\n"
     ]
    }
   ],
   "source": [
    "a=10\n",
    "b=20\n",
    "if a < b:\n",
    "    temp = \"Hello\"\n",
    "else:\n",
    "    print(\"else\")\n",
    "\n",
    "print(temp)"
   ]
  },
  {
   "cell_type": "code",
   "execution_count": 55,
   "id": "21ae1f9c",
   "metadata": {},
   "outputs": [
    {
     "name": "stdout",
     "output_type": "stream",
     "text": [
      "inside the false block\n",
      "Anil\n"
     ]
    }
   ],
   "source": [
    "a=100\n",
    "b=20\n",
    "temp1=\"Anil\"\n",
    "if a<b:\n",
    "    temp1=\"Kumar\"\n",
    "else:\n",
    "    print(\"inside the false block\")\n",
    "print(temp1)\n"
   ]
  },
  {
   "cell_type": "code",
   "execution_count": 56,
   "id": "316550e6",
   "metadata": {},
   "outputs": [],
   "source": [
    "emp = {\n",
    "    \"name\":\"Anil\",\n",
    "    \"dept\":\"finance\",\n",
    "    \"location\":\"Chennai\"\n",
    "}"
   ]
  },
  {
   "cell_type": "code",
   "execution_count": 57,
   "id": "a79df382",
   "metadata": {},
   "outputs": [
    {
     "data": {
      "text/plain": [
       "dict"
      ]
     },
     "execution_count": 57,
     "metadata": {},
     "output_type": "execute_result"
    }
   ],
   "source": [
    "type(emp)"
   ]
  },
  {
   "cell_type": "code",
   "execution_count": 58,
   "id": "5240dd2d",
   "metadata": {},
   "outputs": [],
   "source": [
    "book = dict(name=\"Python Reference\", author=\"Praveen\", isbn=123456)"
   ]
  },
  {
   "cell_type": "code",
   "execution_count": 59,
   "id": "64f5aaab",
   "metadata": {},
   "outputs": [
    {
     "data": {
      "text/plain": [
       "dict"
      ]
     },
     "execution_count": 59,
     "metadata": {},
     "output_type": "execute_result"
    }
   ],
   "source": [
    "type(book)"
   ]
  },
  {
   "cell_type": "code",
   "execution_count": 60,
   "id": "182c5866",
   "metadata": {},
   "outputs": [
    {
     "data": {
      "text/plain": [
       "'Python Reference'"
      ]
     },
     "execution_count": 60,
     "metadata": {},
     "output_type": "execute_result"
    }
   ],
   "source": [
    "book['name']"
   ]
  },
  {
   "cell_type": "code",
   "execution_count": 61,
   "id": "9ef2bf21",
   "metadata": {},
   "outputs": [
    {
     "data": {
      "text/plain": [
       "'Praveen'"
      ]
     },
     "execution_count": 61,
     "metadata": {},
     "output_type": "execute_result"
    }
   ],
   "source": [
    "book['author']"
   ]
  },
  {
   "cell_type": "code",
   "execution_count": 62,
   "id": "929f77f5",
   "metadata": {},
   "outputs": [
    {
     "data": {
      "text/plain": [
       "123456"
      ]
     },
     "execution_count": 62,
     "metadata": {},
     "output_type": "execute_result"
    }
   ],
   "source": [
    "book['isbn']"
   ]
  },
  {
   "cell_type": "code",
   "execution_count": 63,
   "id": "f1471071",
   "metadata": {},
   "outputs": [],
   "source": [
    "book['author']= \"RonVonson\""
   ]
  },
  {
   "cell_type": "code",
   "execution_count": 64,
   "id": "6f919a3e",
   "metadata": {},
   "outputs": [
    {
     "data": {
      "text/plain": [
       "'RonVonson'"
      ]
     },
     "execution_count": 64,
     "metadata": {},
     "output_type": "execute_result"
    }
   ],
   "source": [
    "book['author']"
   ]
  },
  {
   "cell_type": "code",
   "execution_count": 65,
   "id": "6b9a3848",
   "metadata": {},
   "outputs": [
    {
     "data": {
      "text/plain": [
       "{'name': 'Python Reference', 'author': 'RonVonson', 'isbn': 123456}"
      ]
     },
     "execution_count": 65,
     "metadata": {},
     "output_type": "execute_result"
    }
   ],
   "source": [
    "book"
   ]
  },
  {
   "cell_type": "code",
   "execution_count": 68,
   "id": "41f36a27",
   "metadata": {},
   "outputs": [
    {
     "data": {
      "text/plain": [
       "'nothing'"
      ]
     },
     "execution_count": 68,
     "metadata": {},
     "output_type": "execute_result"
    }
   ],
   "source": [
    "book.get('name1','nothing')"
   ]
  },
  {
   "cell_type": "code",
   "execution_count": 69,
   "id": "827f49dc",
   "metadata": {},
   "outputs": [
    {
     "data": {
      "text/plain": [
       "dict_keys(['name', 'author', 'isbn'])"
      ]
     },
     "execution_count": 69,
     "metadata": {},
     "output_type": "execute_result"
    }
   ],
   "source": [
    "book.keys()"
   ]
  },
  {
   "cell_type": "code",
   "execution_count": 70,
   "id": "9b82345c",
   "metadata": {},
   "outputs": [
    {
     "data": {
      "text/plain": [
       "dict_values(['Python Reference', 'RonVonson', 123456])"
      ]
     },
     "execution_count": 70,
     "metadata": {},
     "output_type": "execute_result"
    }
   ],
   "source": [
    "book.values()"
   ]
  },
  {
   "cell_type": "code",
   "execution_count": 72,
   "id": "6eae355b",
   "metadata": {},
   "outputs": [
    {
     "data": {
      "text/plain": [
       "dict_items([('name', 'Python Reference'), ('author', 'RonVonson'), ('isbn', 123456)])"
      ]
     },
     "execution_count": 72,
     "metadata": {},
     "output_type": "execute_result"
    }
   ],
   "source": [
    "book.items()"
   ]
  },
  {
   "cell_type": "code",
   "execution_count": 73,
   "id": "0cd063f5",
   "metadata": {},
   "outputs": [
    {
     "data": {
      "text/plain": [
       "'Python Reference'"
      ]
     },
     "execution_count": 73,
     "metadata": {},
     "output_type": "execute_result"
    }
   ],
   "source": [
    "book.pop(\"name\")"
   ]
  },
  {
   "cell_type": "code",
   "execution_count": 74,
   "id": "38f3af2b",
   "metadata": {},
   "outputs": [
    {
     "data": {
      "text/plain": [
       "{'author': 'RonVonson', 'isbn': 123456}"
      ]
     },
     "execution_count": 74,
     "metadata": {},
     "output_type": "execute_result"
    }
   ],
   "source": [
    "book"
   ]
  },
  {
   "cell_type": "code",
   "execution_count": 75,
   "id": "5e5e229a",
   "metadata": {},
   "outputs": [
    {
     "ename": "SyntaxError",
     "evalue": "invalid syntax (786828634.py, line 1)",
     "output_type": "error",
     "traceback": [
      "\u001b[1;36m  Cell \u001b[1;32mIn[75], line 1\u001b[1;36m\u001b[0m\n\u001b[1;33m    book.update(\"name\":\"Java Reference\")\u001b[0m\n\u001b[1;37m                      ^\u001b[0m\n\u001b[1;31mSyntaxError\u001b[0m\u001b[1;31m:\u001b[0m invalid syntax\n"
     ]
    }
   ],
   "source": [
    "book.update(\"name\":\"Java Reference\")"
   ]
  },
  {
   "cell_type": "code",
   "execution_count": 76,
   "id": "8758cdd2",
   "metadata": {},
   "outputs": [],
   "source": [
    "book.update({\"name\":\"Java Reference\"})"
   ]
  },
  {
   "cell_type": "code",
   "execution_count": 77,
   "id": "011ecb84",
   "metadata": {},
   "outputs": [
    {
     "ename": "NameError",
     "evalue": "name 'books' is not defined",
     "output_type": "error",
     "traceback": [
      "\u001b[1;31m---------------------------------------------------------------------------\u001b[0m",
      "\u001b[1;31mNameError\u001b[0m                                 Traceback (most recent call last)",
      "Cell \u001b[1;32mIn[77], line 1\u001b[0m\n\u001b[1;32m----> 1\u001b[0m books\n",
      "\u001b[1;31mNameError\u001b[0m: name 'books' is not defined"
     ]
    }
   ],
   "source": [
    "books"
   ]
  },
  {
   "cell_type": "code",
   "execution_count": 78,
   "id": "c0b2ee6d",
   "metadata": {},
   "outputs": [
    {
     "data": {
      "text/plain": [
       "{'author': 'RonVonson', 'isbn': 123456, 'name': 'Java Reference'}"
      ]
     },
     "execution_count": 78,
     "metadata": {},
     "output_type": "execute_result"
    }
   ],
   "source": [
    "book"
   ]
  },
  {
   "cell_type": "code",
   "execution_count": 79,
   "id": "94889bbe",
   "metadata": {},
   "outputs": [
    {
     "data": {
      "text/plain": [
       "('name', 'Java Reference')"
      ]
     },
     "execution_count": 79,
     "metadata": {},
     "output_type": "execute_result"
    }
   ],
   "source": [
    "book.popitem()"
   ]
  },
  {
   "cell_type": "code",
   "execution_count": 80,
   "id": "efd39873",
   "metadata": {},
   "outputs": [
    {
     "data": {
      "text/plain": [
       "{'author': 'RonVonson', 'isbn': 123456}"
      ]
     },
     "execution_count": 80,
     "metadata": {},
     "output_type": "execute_result"
    }
   ],
   "source": [
    "book"
   ]
  },
  {
   "cell_type": "code",
   "execution_count": 81,
   "id": "56b8ba87",
   "metadata": {},
   "outputs": [
    {
     "name": "stdout",
     "output_type": "stream",
     "text": [
      "author ===> RonVonson\n",
      "isbn ===> 123456\n"
     ]
    }
   ],
   "source": [
    "for key, value in book.items():\n",
    "    print(key,\"===>\",value)\n"
   ]
  },
  {
   "cell_type": "code",
   "execution_count": 82,
   "id": "d931c3dd",
   "metadata": {},
   "outputs": [],
   "source": [
    "students = {\n",
    "    \"Alice\" : [85,95,90],\n",
    "    \"Bob\":[76,79,82],\n",
    "    \"Charlie\":[91,89,92]\n",
    "}"
   ]
  },
  {
   "cell_type": "code",
   "execution_count": 83,
   "id": "1ce8b944",
   "metadata": {},
   "outputs": [
    {
     "data": {
      "text/plain": [
       "dict"
      ]
     },
     "execution_count": 83,
     "metadata": {},
     "output_type": "execute_result"
    }
   ],
   "source": [
    "type(students)"
   ]
  },
  {
   "cell_type": "code",
   "execution_count": 85,
   "id": "b068947f",
   "metadata": {},
   "outputs": [
    {
     "data": {
      "text/plain": [
       "list"
      ]
     },
     "execution_count": 85,
     "metadata": {},
     "output_type": "execute_result"
    }
   ],
   "source": [
    "type(students['Alice'])"
   ]
  },
  {
   "cell_type": "code",
   "execution_count": 86,
   "id": "2f1d166c",
   "metadata": {},
   "outputs": [
    {
     "data": {
      "text/plain": [
       "90"
      ]
     },
     "execution_count": 86,
     "metadata": {},
     "output_type": "execute_result"
    }
   ],
   "source": [
    "students['Alice'][2]"
   ]
  },
  {
   "cell_type": "code",
   "execution_count": 87,
   "id": "d413809d",
   "metadata": {},
   "outputs": [],
   "source": [
    "person = {\n",
    "    \"id\":1001,\n",
    "    \"name\":\"Kumar\",\n",
    "    \"address\": {\n",
    "        \"dno\":9001,\n",
    "        \"street\":\"SP Road\",\n",
    "        \"city\":\"Hyderabad\"\n",
    "    }\n",
    "}"
   ]
  },
  {
   "cell_type": "code",
   "execution_count": 89,
   "id": "b5fcd3ea",
   "metadata": {},
   "outputs": [
    {
     "data": {
      "text/plain": [
       "1001"
      ]
     },
     "execution_count": 89,
     "metadata": {},
     "output_type": "execute_result"
    }
   ],
   "source": [
    "person['id']"
   ]
  },
  {
   "cell_type": "code",
   "execution_count": 90,
   "id": "03d534f6",
   "metadata": {},
   "outputs": [
    {
     "data": {
      "text/plain": [
       "{'dno': 9001, 'street': 'SP Road', 'city': 'Hyderabad'}"
      ]
     },
     "execution_count": 90,
     "metadata": {},
     "output_type": "execute_result"
    }
   ],
   "source": [
    "person['address']"
   ]
  },
  {
   "cell_type": "code",
   "execution_count": 91,
   "id": "ac99aff9",
   "metadata": {},
   "outputs": [
    {
     "data": {
      "text/plain": [
       "9001"
      ]
     },
     "execution_count": 91,
     "metadata": {},
     "output_type": "execute_result"
    }
   ],
   "source": [
    "person['address']['dno']"
   ]
  },
  {
   "cell_type": "code",
   "execution_count": 103,
   "id": "6c9c579e",
   "metadata": {},
   "outputs": [],
   "source": [
    "keys = [\"name\",\"age\",\"city\",\"state\"]\n",
    "values =[\"kumar\",39,\"Chennai\",\"Tamilnadu\"]\n",
    "data = dict(zip(keys,values))"
   ]
  },
  {
   "cell_type": "code",
   "execution_count": 104,
   "id": "1fba5c18",
   "metadata": {},
   "outputs": [
    {
     "data": {
      "text/plain": [
       "{'name': 'kumar', 'age': 39, 'city': 'Chennai', 'state': 'Tamilnadu'}"
      ]
     },
     "execution_count": 104,
     "metadata": {},
     "output_type": "execute_result"
    }
   ],
   "source": [
    "data"
   ]
  },
  {
   "cell_type": "code",
   "execution_count": null,
   "id": "46b7fcb6",
   "metadata": {},
   "outputs": [],
   "source": []
  }
 ],
 "metadata": {
  "kernelspec": {
   "display_name": "base",
   "language": "python",
   "name": "python3"
  },
  "language_info": {
   "codemirror_mode": {
    "name": "ipython",
    "version": 3
   },
   "file_extension": ".py",
   "mimetype": "text/x-python",
   "name": "python",
   "nbconvert_exporter": "python",
   "pygments_lexer": "ipython3",
   "version": "3.13.5"
  }
 },
 "nbformat": 4,
 "nbformat_minor": 5
}
