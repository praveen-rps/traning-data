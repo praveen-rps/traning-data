{
 "cells": [
  {
   "cell_type": "code",
   "execution_count": null,
   "id": "07ac088d",
   "metadata": {},
   "outputs": [
    {
     "name": "stdout",
     "output_type": "stream",
     "text": [
      "Grade key does not exists\n"
     ]
    }
   ],
   "source": [
    "student = {\n",
    "    \"id\":1001,\n",
    "    \"name\":\"sunil\",\n",
    "    \"branch\":\"ece\"\n",
    "}\n",
    "\n",
    "if \"sunil\" in student:\n",
    "    print(\"Grade key exists in Student\")\n",
    "else:\n",
    "    print(\"Grade key does not exists\")"
   ]
  },
  {
   "cell_type": "code",
   "execution_count": 4,
   "id": "11fcba0d",
   "metadata": {},
   "outputs": [
    {
     "name": "stdout",
     "output_type": "stream",
     "text": [
      "id ==> 1001\n",
      "name ==> sunil\n",
      "branch ==> ece\n"
     ]
    }
   ],
   "source": [
    "for key, value in student.items():\n",
    "    print(f\"{key} ==> {value}\")"
   ]
  },
  {
   "cell_type": "code",
   "execution_count": 5,
   "id": "67a40951",
   "metadata": {},
   "outputs": [
    {
     "name": "stdout",
     "output_type": "stream",
     "text": [
      "id ==> 1001\n",
      "name ==> sunil\n",
      "branch ==> ece\n"
     ]
    }
   ],
   "source": [
    "for key, value in student.items():\n",
    "    print((\"{} ==> {}\").format(key,value))"
   ]
  },
  {
   "cell_type": "code",
   "execution_count": 2,
   "id": "a0b56d6a",
   "metadata": {},
   "outputs": [
    {
     "name": "stdout",
     "output_type": "stream",
     "text": [
      "id ==> 1001\n",
      "name ==> sunil\n",
      "branch ==> ece\n",
      "m1 ==> 89\n",
      "m2 ==> 85\n",
      "m3 ==> 80\n"
     ]
    }
   ],
   "source": [
    "student = {\n",
    "    \"id\":1001,\n",
    "    \"name\":\"sunil\",\n",
    "    \"branch\":\"ece\"\n",
    "}\n",
    "\n",
    "marks ={\n",
    "    \"m1\":89,\n",
    "    \"m2\":85,\n",
    "    \"m3\":80\n",
    "}\n",
    "student.update(marks) # student = student + marks\n",
    "\n",
    "for key, value in student.items():\n",
    "    print((\"{} ==> {}\").format(key,value))"
   ]
  },
  {
   "cell_type": "code",
   "execution_count": null,
   "id": "9510c064",
   "metadata": {},
   "outputs": [
    {
     "name": "stdout",
     "output_type": "stream",
     "text": [
      "Alice\n",
      "{'maths': 78, 'science': 74, 'social': 80, 'total': 232, 'average': 77.33333333333333}\n",
      "Bob\n",
      "{'maths': 67, 'science': 70, 'social': 60, 'total': 197, 'average': 65.66666666666667}\n",
      "Charlie\n",
      "{'maths': 60, 'science': 70, 'social': 80, 'total': 210, 'average': 70.0}\n",
      "David\n",
      "{'maths': 54, 'science': 61, 'social': 69, 'total': 184, 'average': 61.333333333333336}\n",
      "Eiffel\n",
      "{'maths': 81, 'science': 85, 'social': 90, 'total': 256, 'average': 85.33333333333333}\n"
     ]
    }
   ],
   "source": [
    "students = {\n",
    "    \"Alice\" : {\"maths\":78, \"science\":74, \"social\":80},\n",
    "    \"Bob\" : {\"maths\":67, \"science\":70, \"social\":60},\n",
    "    \"Charlie\": {\"maths\":60, \"science\":70, \"social\":80},\n",
    "    \"David\" : {\"maths\":54, \"science\":61, \"social\":69},\n",
    "    \"Eiffel\" : {\"maths\":81, \"science\":85, \"social\":90}\n",
    "}\n",
    "\n",
    "for name, subjects in students.items():\n",
    "    total = sum(subjects.values())\n",
    "    avg = total/ len(subjects)\n",
    "    #print(f\"{name} => Total is : {total} and Average is :{avg:2f}\")\n",
    "    temp = { \"total\" :total , \"average\" : avg}\n",
    "    subjects.update(temp)\n",
    "\n",
    "# write the pytho code to find the student with highest marks and display the details\n",
    "\n",
    "for name, subjects in students.items():\n",
    "    print(name)\n",
    "    print(subjects)"
   ]
  },
  {
   "cell_type": "code",
   "execution_count": null,
   "id": "90236ef5",
   "metadata": {},
   "outputs": [
    {
     "name": "stdout",
     "output_type": "stream",
     "text": [
      "THe list of courses available\n",
      "C101 -- Python Programming -- 9000\n",
      "C102 -- Java Programming -- 4000\n",
      "C103 -- DevOps Programming -- 12000\n",
      "C104 -- Dotnet Programming -- 5000\n",
      "C105 -- Machine Learning Programming -- 19000\n",
      "Course Added Successfully...!\n",
      "THe list of courses available\n",
      "C101 -- Python Programming -- 9000\n",
      "C102 -- Java Programming -- 4000\n",
      "C103 -- DevOps Programming -- 12000\n",
      "C104 -- Dotnet Programming -- 5000\n",
      "C105 -- Machine Learning Programming -- 19000\n",
      "Course Added Successfully...!\n",
      "THe list of courses available\n",
      "C101 -- Python Programming -- 9000\n",
      "C102 -- Java Programming -- 4000\n",
      "C103 -- DevOps Programming -- 12000\n",
      "C104 -- Dotnet Programming -- 5000\n",
      "C105 -- Machine Learning Programming -- 19000\n",
      "Course already registered\n",
      "THe list of courses available\n",
      "C101 -- Python Programming -- 9000\n",
      "C102 -- Java Programming -- 4000\n",
      "C103 -- DevOps Programming -- 12000\n",
      "C104 -- Dotnet Programming -- 5000\n",
      "C105 -- Machine Learning Programming -- 19000\n",
      "THe list of courses available\n",
      "C101 -- Python Programming -- 9000\n",
      "C102 -- Java Programming -- 4000\n",
      "C103 -- DevOps Programming -- 12000\n",
      "C104 -- Dotnet Programming -- 5000\n",
      "C105 -- Machine Learning Programming -- 19000\n",
      "Course Added Successfully...!\n",
      "THe list of courses available\n",
      "C101 -- Python Programming -- 9000\n",
      "C102 -- Java Programming -- 4000\n",
      "C103 -- DevOps Programming -- 12000\n",
      "C104 -- Dotnet Programming -- 5000\n",
      "C105 -- Machine Learning Programming -- 19000\n",
      "Course Added Successfully...!\n",
      "THe list of courses available\n",
      "C101 -- Python Programming -- 9000\n",
      "C102 -- Java Programming -- 4000\n",
      "C103 -- DevOps Programming -- 12000\n",
      "C104 -- Dotnet Programming -- 5000\n",
      "C105 -- Machine Learning Programming -- 19000\n",
      "THe list of courses available\n",
      "C101 -- Python Programming -- 9000\n",
      "C102 -- Java Programming -- 4000\n",
      "C103 -- DevOps Programming -- 12000\n",
      "C104 -- Dotnet Programming -- 5000\n",
      "C105 -- Machine Learning Programming -- 19000\n",
      "Course Added Successfully...!\n",
      "THe list of courses available\n",
      "C101 -- Python Programming -- 9000\n",
      "C102 -- Java Programming -- 4000\n",
      "C103 -- DevOps Programming -- 12000\n",
      "C104 -- Dotnet Programming -- 5000\n",
      "C105 -- Machine Learning Programming -- 19000\n",
      "Student Id :  1\n",
      "Name of Student:  Arun\n",
      "Registered Courses: \n",
      "C101  --  Python Programming -- 9000\n",
      "C103  --  DevOps Programming -- 12000\n",
      "Total Fee to pay:  21000\n",
      "Student Id :  2\n",
      "Name of Student:  Balu\n",
      "Registered Courses: \n",
      "C103  --  DevOps Programming -- 12000\n",
      "C105  --  Machine Learning Programming -- 19000\n",
      "Total Fee to pay:  31000\n",
      "Student Id :  3\n",
      "Name of Student:  Chandra\n",
      "Registered Courses: \n",
      "C105  --  Machine Learning Programming -- 19000\n",
      "Total Fee to pay:  19000\n"
     ]
    }
   ],
   "source": [
    "# course details in list of tuples\n",
    "courses = [\n",
    "    (\"C101\", \"Python Programming\", 9000),\n",
    "    (\"C102\", \"Java Programming\", 4000),\n",
    "    (\"C103\", \"DevOps Programming\", 12000),\n",
    "    (\"C104\", \"Dotnet Programming\", 5000),\n",
    "    (\"C105\", \"Machine Learning Programming\", 19000)\n",
    "]\n",
    "\n",
    "# list to store the student details\n",
    "students = []\n",
    "\n",
    "#  Read the number of students for application\n",
    "n = int(input(\"Enter number of students\"))\n",
    "\n",
    "for i in range(n):\n",
    "    #print(\"Enter the student name: \")\n",
    "    name = input(\"Enter the student name\")\n",
    "    sid = input(\"Enter the student id\")\n",
    "    registered_courses = set()\n",
    "    course_list = []\n",
    "    while True:\n",
    "        print(\"THe list of courses available\")\n",
    "        for code, title, fee in courses:\n",
    "            print(f\"{code} -- {title} -- {fee}\")\n",
    "        choice = input(\"Enter the course number - DONE to exit\")\n",
    "\n",
    "        if choice == 'DONE':\n",
    "            break\n",
    "        if choice in registered_courses:\n",
    "            print(\"Course already registered\")\n",
    "            continue\n",
    "\n",
    "        found = False\n",
    "\n",
    "        for course in courses:\n",
    "            if course[0] == choice:\n",
    "                course_list.append(course)\n",
    "                registered_courses.add(choice)\n",
    "                print(\"Course Added Successfully...!\")\n",
    "                found=True\n",
    "                break\n",
    "        if not found :\n",
    "            print(\"Invalid Course Code\")\n",
    "        \n",
    "    # Calculate the total fee for registered courses\n",
    "    fees = 0\n",
    "    for course in course_list:\n",
    "        fees += course[2]\n",
    "\n",
    "        student = {\n",
    "            \"id\": sid,\n",
    "            \"name\": name,\n",
    "            \"courses\": course_list,\n",
    "            \"total_fees\" : fees\n",
    "        }\n",
    "    \n",
    "    students.append(student)\n",
    "\n",
    "    # Display the student details\n",
    "for s in students:\n",
    "    print(\"Student Id : \",s['id'])\n",
    "    print(\"Name of Student: \",s['name'])\n",
    "    print(\"Registered Courses: \")\n",
    "    for course in s['courses']:\n",
    "        print( course[0],\" -- \",course[1], \"--\", course[2])\n",
    "    print(\"Total Fee to pay: \", s['total_fees'])"
   ]
  },
  {
   "cell_type": "code",
   "execution_count": null,
   "id": "57670c19",
   "metadata": {},
   "outputs": [],
   "source": []
  }
 ],
 "metadata": {
  "kernelspec": {
   "display_name": "base",
   "language": "python",
   "name": "python3"
  },
  "language_info": {
   "codemirror_mode": {
    "name": "ipython",
    "version": 3
   },
   "file_extension": ".py",
   "mimetype": "text/x-python",
   "name": "python",
   "nbconvert_exporter": "python",
   "pygments_lexer": "ipython3",
   "version": "3.13.5"
  }
 },
 "nbformat": 4,
 "nbformat_minor": 5
}
