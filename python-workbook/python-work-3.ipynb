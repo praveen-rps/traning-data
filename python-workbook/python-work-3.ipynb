{
 "cells": [
  {
   "cell_type": "code",
   "execution_count": 3,
   "id": "07ac088d",
   "metadata": {},
   "outputs": [
    {
     "name": "stdout",
     "output_type": "stream",
     "text": [
      "Grade key does not exists\n"
     ]
    }
   ],
   "source": [
    "student = {\n",
    "    \"id\":1001,\n",
    "    \"name\":\"sunil\",\n",
    "    \"branch\":\"ece\"\n",
    "}\n",
    "\n",
    "if \"sunil\" in student:\n",
    "    print(\"Grade key exists in Student\")\n",
    "else:\n",
    "    print(\"Grade key does not exists\")"
   ]
  },
  {
   "cell_type": "code",
   "execution_count": 4,
   "id": "11fcba0d",
   "metadata": {},
   "outputs": [
    {
     "name": "stdout",
     "output_type": "stream",
     "text": [
      "id ==> 1001\n",
      "name ==> sunil\n",
      "branch ==> ece\n"
     ]
    }
   ],
   "source": [
    "for key, value in student.items():\n",
    "    print(f\"{key} ==> {value}\")"
   ]
  },
  {
   "cell_type": "code",
   "execution_count": 5,
   "id": "67a40951",
   "metadata": {},
   "outputs": [
    {
     "name": "stdout",
     "output_type": "stream",
     "text": [
      "id ==> 1001\n",
      "name ==> sunil\n",
      "branch ==> ece\n"
     ]
    }
   ],
   "source": [
    "for key, value in student.items():\n",
    "    print((\"{} ==> {}\").format(key,value))"
   ]
  },
  {
   "cell_type": "code",
   "execution_count": null,
   "id": "a0b56d6a",
   "metadata": {},
   "outputs": [],
   "source": []
  }
 ],
 "metadata": {
  "kernelspec": {
   "display_name": "base",
   "language": "python",
   "name": "python3"
  },
  "language_info": {
   "codemirror_mode": {
    "name": "ipython",
    "version": 3
   },
   "file_extension": ".py",
   "mimetype": "text/x-python",
   "name": "python",
   "nbconvert_exporter": "python",
   "pygments_lexer": "ipython3",
   "version": "3.13.5"
  }
 },
 "nbformat": 4,
 "nbformat_minor": 5
}
