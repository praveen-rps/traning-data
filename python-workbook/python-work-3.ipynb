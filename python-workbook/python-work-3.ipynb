{
 "cells": [
  {
   "cell_type": "code",
   "execution_count": null,
   "id": "07ac088d",
   "metadata": {},
   "outputs": [
    {
     "name": "stdout",
     "output_type": "stream",
     "text": [
      "Grade key does not exists\n"
     ]
    }
   ],
   "source": [
    "student = {\n",
    "    \"id\":1001,\n",
    "    \"name\":\"sunil\",\n",
    "    \"branch\":\"ece\"\n",
    "}\n",
    "\n",
    "if \"sunil\" in student:\n",
    "    print(\"Grade key exists in Student\")\n",
    "else:\n",
    "    print(\"Grade key does not exists\")"
   ]
  },
  {
   "cell_type": "code",
   "execution_count": 4,
   "id": "11fcba0d",
   "metadata": {},
   "outputs": [
    {
     "name": "stdout",
     "output_type": "stream",
     "text": [
      "id ==> 1001\n",
      "name ==> sunil\n",
      "branch ==> ece\n"
     ]
    }
   ],
   "source": [
    "for key, value in student.items():\n",
    "    print(f\"{key} ==> {value}\")"
   ]
  },
  {
   "cell_type": "code",
   "execution_count": 5,
   "id": "67a40951",
   "metadata": {},
   "outputs": [
    {
     "name": "stdout",
     "output_type": "stream",
     "text": [
      "id ==> 1001\n",
      "name ==> sunil\n",
      "branch ==> ece\n"
     ]
    }
   ],
   "source": [
    "for key, value in student.items():\n",
    "    print((\"{} ==> {}\").format(key,value))"
   ]
  },
  {
   "cell_type": "code",
   "execution_count": 2,
   "id": "a0b56d6a",
   "metadata": {},
   "outputs": [
    {
     "name": "stdout",
     "output_type": "stream",
     "text": [
      "id ==> 1001\n",
      "name ==> sunil\n",
      "branch ==> ece\n",
      "m1 ==> 89\n",
      "m2 ==> 85\n",
      "m3 ==> 80\n"
     ]
    }
   ],
   "source": [
    "student = {\n",
    "    \"id\":1001,\n",
    "    \"name\":\"sunil\",\n",
    "    \"branch\":\"ece\"\n",
    "}\n",
    "\n",
    "marks ={\n",
    "    \"m1\":89,\n",
    "    \"m2\":85,\n",
    "    \"m3\":80\n",
    "}\n",
    "student.update(marks) # student = student + marks\n",
    "\n",
    "for key, value in student.items():\n",
    "    print((\"{} ==> {}\").format(key,value))"
   ]
  },
  {
   "cell_type": "code",
   "execution_count": null,
   "id": "9510c064",
   "metadata": {},
   "outputs": [
    {
     "name": "stdout",
     "output_type": "stream",
     "text": [
      "Alice\n",
      "{'maths': 78, 'science': 74, 'social': 80, 'total': 232, 'average': 77.33333333333333}\n",
      "Bob\n",
      "{'maths': 67, 'science': 70, 'social': 60, 'total': 197, 'average': 65.66666666666667}\n",
      "Charlie\n",
      "{'maths': 60, 'science': 70, 'social': 80, 'total': 210, 'average': 70.0}\n",
      "David\n",
      "{'maths': 54, 'science': 61, 'social': 69, 'total': 184, 'average': 61.333333333333336}\n",
      "Eiffel\n",
      "{'maths': 81, 'science': 85, 'social': 90, 'total': 256, 'average': 85.33333333333333}\n"
     ]
    }
   ],
   "source": [
    "students = {\n",
    "    \"Alice\" : {\"maths\":78, \"science\":74, \"social\":80},\n",
    "    \"Bob\" : {\"maths\":67, \"science\":70, \"social\":60},\n",
    "    \"Charlie\": {\"maths\":60, \"science\":70, \"social\":80},\n",
    "    \"David\" : {\"maths\":54, \"science\":61, \"social\":69},\n",
    "    \"Eiffel\" : {\"maths\":81, \"science\":85, \"social\":90}\n",
    "}\n",
    "\n",
    "for name, subjects in students.items():\n",
    "    total = sum(subjects.values())\n",
    "    avg = total/ len(subjects)\n",
    "    #print(f\"{name} => Total is : {total} and Average is :{avg:2f}\")\n",
    "    temp = { \"total\" :total , \"average\" : avg}\n",
    "    subjects.update(temp)\n",
    "\n",
    "# write the pytho code to find the student with highest marks and display the details\n",
    "\n",
    "for name, subjects in students.items():\n",
    "    print(name)\n",
    "    print(subjects)"
   ]
  },
  {
   "cell_type": "code",
   "execution_count": 63,
   "id": "90236ef5",
   "metadata": {},
   "outputs": [
    {
     "name": "stdout",
     "output_type": "stream",
     "text": [
      "THe list of courses available\n",
      "C101 -- Python Programming -- 9000\n",
      "C102 -- Java Programming -- 4000\n",
      "C103 -- DevOps Programming -- 12000\n",
      "C104 -- Dotnet Programming -- 5000\n",
      "C105 -- Machine Learning Programming -- 19000\n",
      "Course Added Successfully...!\n",
      "THe list of courses available\n",
      "C101 -- Python Programming -- 9000\n",
      "C102 -- Java Programming -- 4000\n",
      "C103 -- DevOps Programming -- 12000\n",
      "C104 -- Dotnet Programming -- 5000\n",
      "C105 -- Machine Learning Programming -- 19000\n",
      "Course Added Successfully...!\n",
      "THe list of courses available\n",
      "C101 -- Python Programming -- 9000\n",
      "C102 -- Java Programming -- 4000\n",
      "C103 -- DevOps Programming -- 12000\n",
      "C104 -- Dotnet Programming -- 5000\n",
      "C105 -- Machine Learning Programming -- 19000\n",
      "Course Added Successfully...!\n",
      "THe list of courses available\n",
      "C101 -- Python Programming -- 9000\n",
      "C102 -- Java Programming -- 4000\n",
      "C103 -- DevOps Programming -- 12000\n",
      "C104 -- Dotnet Programming -- 5000\n",
      "C105 -- Machine Learning Programming -- 19000\n",
      "Hello,  {'id': '9010', 'name': 'Amar', 'courses': [('C101', 'Python Programming', 9000), ('C102', 'Java Programming', 4000), ('C103', 'DevOps Programming', 12000)], 'total_fees': 25000}\n",
      "Hello,  Praveen\n"
     ]
    }
   ],
   "source": [
    "# course details in list of tuples\n",
    "courses = [\n",
    "    (\"C101\", \"Python Programming\", 9000),\n",
    "    (\"C102\", \"Java Programming\", 4000),\n",
    "    (\"C103\", \"DevOps Programming\", 12000),\n",
    "    (\"C104\", \"Dotnet Programming\", 5000),\n",
    "    (\"C105\", \"Machine Learning Programming\", 19000)\n",
    "]\n",
    "\n",
    "# list to store the student details\n",
    "students = []\n",
    "\n",
    "#  Read the number of students for application\n",
    "n = int(input(\"Enter number of students\"))\n",
    "\n",
    "for i in range(n):\n",
    "    #print(\"Enter the student name: \")\n",
    "    name = input(\"Enter the student name\")\n",
    "    sid = input(\"Enter the student id\")\n",
    "    registered_courses = set()\n",
    "    course_list = []\n",
    "    while True:\n",
    "        print(\"THe list of courses available\")\n",
    "        for code, title, fee in courses:\n",
    "            print(f\"{code} -- {title} -- {fee}\")\n",
    "        choice = input(\"Enter the course number - DONE to exit\")\n",
    "\n",
    "        if choice == 'DONE':\n",
    "            break\n",
    "        if choice in registered_courses:\n",
    "            print(\"Course already registered\")\n",
    "            continue\n",
    "\n",
    "        found = False\n",
    "\n",
    "        for course in courses:\n",
    "            if course[0] == choice:\n",
    "                course_list.append(course)\n",
    "                registered_courses.add(choice)\n",
    "                print(\"Course Added Successfully...!\")\n",
    "                found=True\n",
    "                break\n",
    "        if not found :\n",
    "            print(\"Invalid Course Code\")\n",
    "        \n",
    "    # Calculate the total fee for registered courses\n",
    "    fees = 0\n",
    "    for course in course_list:\n",
    "        fees += course[2]\n",
    "\n",
    "        student = {\n",
    "            \"id\": sid,\n",
    "            \"name\": name,\n",
    "            \"courses\": course_list,\n",
    "            \"total_fees\" : fees\n",
    "        }\n",
    "    \n",
    "    students.append(student)\n",
    "\n",
    "    # Display the student details\n",
    "for s in students:\n",
    "    display(s)\n",
    "\n",
    "def display(student):\n",
    "    print(\"Student Id : \",student['id'])\n",
    "    print(\"Name of Student: \",student['name'])\n",
    "    print(\"Registered Courses: \")\n",
    "    for course in student['courses']:\n",
    "        print( course[0],\" -- \",course[1], \"--\", course[2])\n",
    "    print(\"Total Fee to pay: \", s['total_fees'])\n"
   ]
  },
  {
   "cell_type": "code",
   "execution_count": 19,
   "id": "57670c19",
   "metadata": {},
   "outputs": [
    {
     "name": "stdout",
     "output_type": "stream",
     "text": [
      "The ncr value is  15.0\n"
     ]
    }
   ],
   "source": [
    "n = int(input(\"Enter n value\"))\n",
    "r = int(input(\"Enter r value\"))\n",
    "f1 = 1\n",
    "for i in range(1,n+1):\n",
    "    f1 = f1 * i\n",
    "f2 = 1\n",
    "for j in range(1,r+1):\n",
    "    f2 = f2* j\n",
    "f3 = 1\n",
    "for k in range(1, (n-r)+1):\n",
    "    f3 = f3 * k\n",
    "ncr = f1/(f3 * f2)\n",
    "\n",
    "print(\"The ncr value is \",ncr)"
   ]
  },
  {
   "cell_type": "code",
   "execution_count": null,
   "id": "3290bd31",
   "metadata": {},
   "outputs": [],
   "source": [
    "def fact(n):\n",
    "    f = 1\n",
    "    if n == 0 or n == 1:\n",
    "        return 1;\n",
    "    else:\n",
    "        for i in range(1,n+1):\n",
    "            f = f* i\n",
    "    return f;"
   ]
  },
  {
   "cell_type": "code",
   "execution_count": 18,
   "id": "d8172faa",
   "metadata": {},
   "outputs": [
    {
     "name": "stdout",
     "output_type": "stream",
     "text": [
      "The ncr value is  15.0\n"
     ]
    }
   ],
   "source": [
    "n = int(input(\"Enter n value\"))\n",
    "r = int(input(\"Enter r value\"))\n",
    "ncr = fact(n) / (fact(r) * fact(n-r))\n",
    "print(\"The ncr value is \", ncr)"
   ]
  },
  {
   "cell_type": "code",
   "execution_count": 17,
   "id": "70d8dc00",
   "metadata": {},
   "outputs": [
    {
     "name": "stdout",
     "output_type": "stream",
     "text": [
      "5040\n"
     ]
    }
   ],
   "source": [
    "print(fact(7))"
   ]
  },
  {
   "cell_type": "code",
   "execution_count": 23,
   "id": "accfba15",
   "metadata": {},
   "outputs": [],
   "source": [
    "def display():\n",
    "    print(\"THIS IS THE FIRST LINE TO DEMO FUNCTION\")\n",
    "    print(\"This is the second line for demo function\")"
   ]
  },
  {
   "cell_type": "code",
   "execution_count": 24,
   "id": "e5a62a93",
   "metadata": {},
   "outputs": [
    {
     "name": "stdout",
     "output_type": "stream",
     "text": [
      "THIS IS THE FIRST LINE TO DEMO FUNCTION\n",
      "This is the second line for demo function\n"
     ]
    }
   ],
   "source": [
    "display()"
   ]
  },
  {
   "cell_type": "code",
   "execution_count": 25,
   "id": "a3e025a0",
   "metadata": {},
   "outputs": [],
   "source": [
    "def greeting(name):\n",
    "    print(\"Hello\", name , \" Welcome to python programming \")"
   ]
  },
  {
   "cell_type": "code",
   "execution_count": 26,
   "id": "adc743fa",
   "metadata": {},
   "outputs": [
    {
     "name": "stdout",
     "output_type": "stream",
     "text": [
      "Hello praveen  Welcome to python programming \n"
     ]
    }
   ],
   "source": [
    "greeting(\"praveen\")"
   ]
  },
  {
   "cell_type": "code",
   "execution_count": 27,
   "id": "8200e9af",
   "metadata": {},
   "outputs": [],
   "source": [
    "def test():\n",
    "    return \"Hello Welcome to Python\""
   ]
  },
  {
   "cell_type": "code",
   "execution_count": 28,
   "id": "4ddb8bc5",
   "metadata": {},
   "outputs": [
    {
     "data": {
      "text/plain": [
       "'Hello Welcome to Python'"
      ]
     },
     "execution_count": 28,
     "metadata": {},
     "output_type": "execute_result"
    }
   ],
   "source": [
    "test()"
   ]
  },
  {
   "cell_type": "code",
   "execution_count": null,
   "id": "b639da3b",
   "metadata": {},
   "outputs": [],
   "source": [
    "def add(a,b):\n",
    "    return a+b;"
   ]
  },
  {
   "cell_type": "code",
   "execution_count": 30,
   "id": "454aa461",
   "metadata": {},
   "outputs": [
    {
     "name": "stdout",
     "output_type": "stream",
     "text": [
      "30\n"
     ]
    }
   ],
   "source": [
    "print(add(10,20))"
   ]
  },
  {
   "cell_type": "code",
   "execution_count": null,
   "id": "00d1e8e0",
   "metadata": {},
   "outputs": [
    {
     "name": "stdout",
     "output_type": "stream",
     "text": [
      "99\n"
     ]
    }
   ],
   "source": [
    "print(add(10,89))"
   ]
  },
  {
   "cell_type": "code",
   "execution_count": 34,
   "id": "ef6b6a93",
   "metadata": {},
   "outputs": [],
   "source": [
    "def greeting(name,city):\n",
    "    print(\"Hello \", name , \" welcome to \", city)"
   ]
  },
  {
   "cell_type": "code",
   "execution_count": 35,
   "id": "573c6f3f",
   "metadata": {},
   "outputs": [
    {
     "name": "stdout",
     "output_type": "stream",
     "text": [
      "Hello  Praveen  welcome to  Chennai\n"
     ]
    }
   ],
   "source": [
    "greeting('Praveen','Chennai')"
   ]
  },
  {
   "cell_type": "code",
   "execution_count": 36,
   "id": "05aefc3c",
   "metadata": {},
   "outputs": [
    {
     "name": "stdout",
     "output_type": "stream",
     "text": [
      "Hello  Chennai  welcome to  Praveen\n"
     ]
    }
   ],
   "source": [
    "greeting('Chennai','Praveen')"
   ]
  },
  {
   "cell_type": "code",
   "execution_count": 37,
   "id": "fe8e4526",
   "metadata": {},
   "outputs": [
    {
     "name": "stdout",
     "output_type": "stream",
     "text": [
      "Hello  Arun  welcome to  Chennai\n"
     ]
    }
   ],
   "source": [
    "greeting(city=\"Chennai\", name=\"Arun\")"
   ]
  },
  {
   "cell_type": "code",
   "execution_count": 40,
   "id": "78b9e395",
   "metadata": {},
   "outputs": [],
   "source": [
    "def greeting(name,city=\"Chennai\"):\n",
    "    print(\"Hello \", name , \" welcome to \", city)"
   ]
  },
  {
   "cell_type": "code",
   "execution_count": 41,
   "id": "eed6bfe3",
   "metadata": {},
   "outputs": [
    {
     "name": "stdout",
     "output_type": "stream",
     "text": [
      "Hello  Arun  welcome to  Chennai\n"
     ]
    }
   ],
   "source": [
    "greeting(\"Arun\")"
   ]
  },
  {
   "cell_type": "code",
   "execution_count": 42,
   "id": "6bf142fa",
   "metadata": {},
   "outputs": [
    {
     "name": "stdout",
     "output_type": "stream",
     "text": [
      "Hello  Arun  welcome to  Bangalore\n"
     ]
    }
   ],
   "source": [
    "greeting(\"Arun\",\"Bangalore\")"
   ]
  },
  {
   "cell_type": "code",
   "execution_count": 44,
   "id": "ed300b49",
   "metadata": {},
   "outputs": [],
   "source": [
    "def add(a,b):\n",
    "    return a+b"
   ]
  },
  {
   "cell_type": "code",
   "execution_count": 45,
   "id": "7ac942b6",
   "metadata": {},
   "outputs": [
    {
     "name": "stdout",
     "output_type": "stream",
     "text": [
      "30\n"
     ]
    }
   ],
   "source": [
    "print(add(10,20))"
   ]
  },
  {
   "cell_type": "code",
   "execution_count": 46,
   "id": "c19bf951",
   "metadata": {},
   "outputs": [
    {
     "ename": "TypeError",
     "evalue": "add() takes 2 positional arguments but 3 were given",
     "output_type": "error",
     "traceback": [
      "\u001b[1;31m---------------------------------------------------------------------------\u001b[0m",
      "\u001b[1;31mTypeError\u001b[0m                                 Traceback (most recent call last)",
      "Cell \u001b[1;32mIn[46], line 1\u001b[0m\n\u001b[1;32m----> 1\u001b[0m \u001b[38;5;28mprint\u001b[39m(add(\u001b[38;5;241m10\u001b[39m,\u001b[38;5;241m20\u001b[39m,\u001b[38;5;241m30\u001b[39m))\n",
      "\u001b[1;31mTypeError\u001b[0m: add() takes 2 positional arguments but 3 were given"
     ]
    }
   ],
   "source": [
    "print(add(10,20,30))"
   ]
  },
  {
   "cell_type": "code",
   "execution_count": 47,
   "id": "cc863652",
   "metadata": {},
   "outputs": [],
   "source": [
    "# Variable number of arguments\n",
    "\n",
    "def total_marks(*mark):\n",
    "    return sum(mark)\n"
   ]
  },
  {
   "cell_type": "code",
   "execution_count": 48,
   "id": "45941d4b",
   "metadata": {},
   "outputs": [
    {
     "data": {
      "text/plain": [
       "5"
      ]
     },
     "execution_count": 48,
     "metadata": {},
     "output_type": "execute_result"
    }
   ],
   "source": [
    "total_marks(5)"
   ]
  },
  {
   "cell_type": "code",
   "execution_count": 49,
   "id": "a2425b92",
   "metadata": {},
   "outputs": [
    {
     "data": {
      "text/plain": [
       "3"
      ]
     },
     "execution_count": 49,
     "metadata": {},
     "output_type": "execute_result"
    }
   ],
   "source": [
    "total_marks(1,2)"
   ]
  },
  {
   "cell_type": "code",
   "execution_count": 50,
   "id": "bbe665f4",
   "metadata": {},
   "outputs": [
    {
     "data": {
      "text/plain": [
       "27"
      ]
     },
     "execution_count": 50,
     "metadata": {},
     "output_type": "execute_result"
    }
   ],
   "source": [
    "total_marks(1,2,3,4,5,5,7)"
   ]
  },
  {
   "cell_type": "code",
   "execution_count": 55,
   "id": "04c47054",
   "metadata": {},
   "outputs": [],
   "source": [
    "def students_info(**details):\n",
    "    for key, value in details.items():\n",
    "        print(f\"{key}:{value}\")"
   ]
  },
  {
   "cell_type": "code",
   "execution_count": 57,
   "id": "a45a300e",
   "metadata": {},
   "outputs": [
    {
     "name": "stdout",
     "output_type": "stream",
     "text": [
      "name:praveen\n",
      "city:Hyderabad\n",
      "age:48\n"
     ]
    }
   ],
   "source": [
    "students_info(name=\"praveen\", city=\"Hyderabad\", age= 48)"
   ]
  },
  {
   "cell_type": "code",
   "execution_count": 62,
   "id": "d69a492f",
   "metadata": {},
   "outputs": [
    {
     "name": "stdout",
     "output_type": "stream",
     "text": [
      "Hello,  Kumar\n",
      "Hello,  Praveen\n",
      "Hello,  Kumar\n"
     ]
    }
   ],
   "source": [
    "name = \"Kumar\"\n",
    "def display(name):\n",
    "    print(\"Hello, \", name)\n",
    "    name = \"Praveen\"\n",
    "    print(\"Hello, \", name)\n",
    "\n",
    "display(name)\n",
    "print(\"Hello, \", name)"
   ]
  },
  {
   "cell_type": "code",
   "execution_count": 65,
   "id": "ba6f321f",
   "metadata": {},
   "outputs": [
    {
     "ename": "ZeroDivisionError",
     "evalue": "division by zero",
     "output_type": "error",
     "traceback": [
      "\u001b[1;31m---------------------------------------------------------------------------\u001b[0m",
      "\u001b[1;31mZeroDivisionError\u001b[0m                         Traceback (most recent call last)",
      "Cell \u001b[1;32mIn[65], line 3\u001b[0m\n\u001b[0;32m      1\u001b[0m a \u001b[38;5;241m=\u001b[39m \u001b[38;5;28mint\u001b[39m(\u001b[38;5;28minput\u001b[39m(\u001b[38;5;124m\"\u001b[39m\u001b[38;5;124mEnter a number\u001b[39m\u001b[38;5;124m\"\u001b[39m))\n\u001b[0;32m      2\u001b[0m b \u001b[38;5;241m=\u001b[39m \u001b[38;5;28mint\u001b[39m(\u001b[38;5;28minput\u001b[39m(\u001b[38;5;124m\"\u001b[39m\u001b[38;5;124menter another number\u001b[39m\u001b[38;5;124m\"\u001b[39m))\n\u001b[1;32m----> 3\u001b[0m c \u001b[38;5;241m=\u001b[39m a\u001b[38;5;241m/\u001b[39mb\n\u001b[0;32m      4\u001b[0m \u001b[38;5;28mprint\u001b[39m(\u001b[38;5;124m\"\u001b[39m\u001b[38;5;124mThe c is \u001b[39m\u001b[38;5;124m\"\u001b[39m,c)\n",
      "\u001b[1;31mZeroDivisionError\u001b[0m: division by zero"
     ]
    }
   ],
   "source": [
    "a = int(input(\"Enter a number\"))\n",
    "b = int(input(\"enter another number\"))\n",
    "c = a/b\n",
    "print(\"The c is \",c)"
   ]
  },
  {
   "cell_type": "code",
   "execution_count": null,
   "id": "841ced91",
   "metadata": {},
   "outputs": [
    {
     "name": "stdout",
     "output_type": "stream",
     "text": [
      "The b value is zero, division is not possible, so re enter the value\n",
      "Inside the finally block\n",
      "After the finally block\n"
     ]
    }
   ],
   "source": [
    "try:\n",
    "    a = int(input(\"Enter a number\"))\n",
    "    b = int(input(\"enter another number\"))\n",
    "    c = a/b\n",
    "    print(\"The c is \",c)\n",
    "except ZeroDivisionError:\n",
    "    print(\"The b value is zero, division is not possible, so re enter the value\")\n",
    "    b = int(input(\"enter another number\"))\n",
    "    c = a/b\n",
    "    print(\"The c is \",c)\n",
    "finally: \n",
    "   print(\"Inside the finally block\")\n",
    "print(\"After the finally block\")"
   ]
  },
  {
   "cell_type": "code",
   "execution_count": null,
   "id": "701ad4e9",
   "metadata": {},
   "outputs": [],
   "source": []
  }
 ],
 "metadata": {
  "kernelspec": {
   "display_name": "base",
   "language": "python",
   "name": "python3"
  },
  "language_info": {
   "codemirror_mode": {
    "name": "ipython",
    "version": 3
   },
   "file_extension": ".py",
   "mimetype": "text/x-python",
   "name": "python",
   "nbconvert_exporter": "python",
   "pygments_lexer": "ipython3",
   "version": "3.13.5"
  }
 },
 "nbformat": 4,
 "nbformat_minor": 5
}
