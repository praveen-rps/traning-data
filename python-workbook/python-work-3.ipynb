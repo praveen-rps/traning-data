{
 "cells": [
  {
   "cell_type": "code",
   "execution_count": null,
   "id": "07ac088d",
   "metadata": {},
   "outputs": [
    {
     "name": "stdout",
     "output_type": "stream",
     "text": [
      "Grade key does not exists\n"
     ]
    }
   ],
   "source": [
    "student = {\n",
    "    \"id\":1001,\n",
    "    \"name\":\"sunil\",\n",
    "    \"branch\":\"ece\"\n",
    "}\n",
    "\n",
    "if \"sunil\" in student:\n",
    "    print(\"Grade key exists in Student\")\n",
    "else:\n",
    "    print(\"Grade key does not exists\")"
   ]
  },
  {
   "cell_type": "code",
   "execution_count": 4,
   "id": "11fcba0d",
   "metadata": {},
   "outputs": [
    {
     "name": "stdout",
     "output_type": "stream",
     "text": [
      "id ==> 1001\n",
      "name ==> sunil\n",
      "branch ==> ece\n"
     ]
    }
   ],
   "source": [
    "for key, value in student.items():\n",
    "    print(f\"{key} ==> {value}\")"
   ]
  },
  {
   "cell_type": "code",
   "execution_count": 5,
   "id": "67a40951",
   "metadata": {},
   "outputs": [
    {
     "name": "stdout",
     "output_type": "stream",
     "text": [
      "id ==> 1001\n",
      "name ==> sunil\n",
      "branch ==> ece\n"
     ]
    }
   ],
   "source": [
    "for key, value in student.items():\n",
    "    print((\"{} ==> {}\").format(key,value))"
   ]
  },
  {
   "cell_type": "code",
   "execution_count": 2,
   "id": "a0b56d6a",
   "metadata": {},
   "outputs": [
    {
     "name": "stdout",
     "output_type": "stream",
     "text": [
      "id ==> 1001\n",
      "name ==> sunil\n",
      "branch ==> ece\n",
      "m1 ==> 89\n",
      "m2 ==> 85\n",
      "m3 ==> 80\n"
     ]
    }
   ],
   "source": [
    "student = {\n",
    "    \"id\":1001,\n",
    "    \"name\":\"sunil\",\n",
    "    \"branch\":\"ece\"\n",
    "}\n",
    "\n",
    "marks ={\n",
    "    \"m1\":89,\n",
    "    \"m2\":85,\n",
    "    \"m3\":80\n",
    "}\n",
    "student.update(marks) # student = student + marks\n",
    "\n",
    "for key, value in student.items():\n",
    "    print((\"{} ==> {}\").format(key,value))"
   ]
  },
  {
   "cell_type": "code",
   "execution_count": null,
   "id": "9510c064",
   "metadata": {},
   "outputs": [
    {
     "name": "stdout",
     "output_type": "stream",
     "text": [
      "Alice\n",
      "{'maths': 78, 'science': 74, 'social': 80, 'total': 232, 'average': 77.33333333333333}\n",
      "Bob\n",
      "{'maths': 67, 'science': 70, 'social': 60, 'total': 197, 'average': 65.66666666666667}\n",
      "Charlie\n",
      "{'maths': 60, 'science': 70, 'social': 80, 'total': 210, 'average': 70.0}\n",
      "David\n",
      "{'maths': 54, 'science': 61, 'social': 69, 'total': 184, 'average': 61.333333333333336}\n",
      "Eiffel\n",
      "{'maths': 81, 'science': 85, 'social': 90, 'total': 256, 'average': 85.33333333333333}\n"
     ]
    }
   ],
   "source": [
    "students = {\n",
    "    \"Alice\" : {\"maths\":78, \"science\":74, \"social\":80},\n",
    "    \"Bob\" : {\"maths\":67, \"science\":70, \"social\":60},\n",
    "    \"Charlie\": {\"maths\":60, \"science\":70, \"social\":80},\n",
    "    \"David\" : {\"maths\":54, \"science\":61, \"social\":69},\n",
    "    \"Eiffel\" : {\"maths\":81, \"science\":85, \"social\":90}\n",
    "}\n",
    "\n",
    "for name, subjects in students.items():\n",
    "    total = sum(subjects.values())\n",
    "    avg = total/ len(subjects)\n",
    "    #print(f\"{name} => Total is : {total} and Average is :{avg:2f}\")\n",
    "    temp = { \"total\" :total , \"average\" : avg}\n",
    "    subjects.update(temp)\n",
    "\n",
    "# write the pytho code to find the student with highest marks and display the details\n",
    "\n",
    "for name, subjects in students.items():\n",
    "    print(name)\n",
    "    print(subjects)"
   ]
  },
  {
   "cell_type": "code",
   "execution_count": null,
   "id": "90236ef5",
   "metadata": {},
   "outputs": [],
   "source": []
  }
 ],
 "metadata": {
  "kernelspec": {
   "display_name": "base",
   "language": "python",
   "name": "python3"
  },
  "language_info": {
   "codemirror_mode": {
    "name": "ipython",
    "version": 3
   },
   "file_extension": ".py",
   "mimetype": "text/x-python",
   "name": "python",
   "nbconvert_exporter": "python",
   "pygments_lexer": "ipython3",
   "version": "3.13.5"
  }
 },
 "nbformat": 4,
 "nbformat_minor": 5
}
